{
 "cells": [
  {
   "cell_type": "markdown",
   "metadata": {},
   "source": [
    "### Что проверяем:\n",
    "\n",
    "слова из списка сводеша сохраняют ранги своих соседей независимо от модели\n",
    "\n",
    "слова из списка сводеша демонстрируют большую устойчивость к набору соседей, чем случайные слова\n",
    "\n",
    "слова из списка сводеша сохраняют расстояния к частотным словам языка независимо от модели.\n"
   ]
  },
  {
   "cell_type": "code",
   "execution_count": null,
   "metadata": {
    "collapsed": true
   },
   "outputs": [],
   "source": [
    "# отсечение по рангу\n",
    "5000 слов самых част\n",
    "снизу - \n",
    "отфильтровать по частотности\n",
    "\n",
    "посмотреть частоты списка Сводеша\n",
    "женя глазунов - спросить про метрики"
   ]
  },
  {
   "cell_type": "code",
   "execution_count": 8,
   "metadata": {
    "collapsed": true
   },
   "outputs": [],
   "source": [
    "# coding: utf-8\n",
    "\n",
    "'''\n",
    "This module is formatting  user config with facts and entities,\n",
    "creating entity index and producing all variants for entity-match\n",
    "'''\n",
    "\n",
    "import pymorphy2\n",
    "import gensim\n",
    "\n",
    "import re\n",
    "import os\n",
    "from tqdm import tqdm\n",
    "from operator import itemgetter\n",
    "from scipy import stats\n",
    "import random\n",
    "from functools import lru_cache\n",
    "import pandas as pd\n",
    "import pymorphy2\n",
    "morph = pymorphy2.MorphAnalyzer()"
   ]
  },
  {
   "cell_type": "code",
   "execution_count": 2,
   "metadata": {
    "collapsed": true
   },
   "outputs": [],
   "source": [
    "def open_model(m):\n",
    "    if m.endswith('.vec'):\n",
    "        model = gensim.models.KeyedVectors.load_word2vec_format(m, binary=False)\n",
    "    elif m.endswith('.bin'):\n",
    "        model = gensim.models.KeyedVectors.load_word2vec_format(m, binary=True)\n",
    "    else:\n",
    "        model = gensim.models.Word2Vec.load(m)\n",
    "    return model"
   ]
  },
  {
   "cell_type": "code",
   "execution_count": 3,
   "metadata": {
    "collapsed": true
   },
   "outputs": [],
   "source": [
    "@lru_cache(maxsize=50)\n",
    "def get_morph(token):\n",
    "    return morph.parse(token)"
   ]
  },
  {
   "cell_type": "code",
   "execution_count": 4,
   "metadata": {
    "collapsed": true
   },
   "outputs": [],
   "source": [
    "def get_tagged(word):\n",
    "    pos_dic = {\"NOUN\":[\"NOUN\",\"PROPN\"],    \"ADJF\":[\"ADJ\"],    \"ADJS\":[\"ADJ\"],    \"COMP\":[\"ADJ\",\"ADV\"],    \"VERB\":[\"VERB\"],    \"INFN\":[\"VERB\"],    \"PRTF\":[\"ADJ\"],    \"PRTS\":[\"VERB\"],    \"GRND\":[\"VERB\"],    \"NUMR\":[\"NUM\"],    \"ADVB\":[\"ADV\"],    \"NPRO\":[\"PRON\"],    \"PRED\":[\"ADV\"],    \"PREP\":[\"ADP\"],    \"CONJ\":[\"CCONJ\",\"SCONJ\"],    \"PRCL\":[\"PART\"],    \"INTJ\":[\"INTJ\"]}\n",
    "    p = get_morph(word)[0]\n",
    "    try:\n",
    "        pos = pos_dic[p.tag.POS]\n",
    "    except:\n",
    "        return []\n",
    "    lemma = p.normal_form\n",
    "    return [lemma+'_'+tag for tag in pos]"
   ]
  },
  {
   "cell_type": "code",
   "execution_count": 5,
   "metadata": {
    "collapsed": true
   },
   "outputs": [],
   "source": [
    "def check_in_model(word, model):\n",
    "    tag_list = get_tagged(word)\n",
    "    for tag in tag_list:\n",
    "        #тут реальное наличие\n",
    "        if tag in model:\n",
    "            return True\n",
    "    return False"
   ]
  },
  {
   "cell_type": "code",
   "execution_count": 6,
   "metadata": {
    "collapsed": true
   },
   "outputs": [],
   "source": [
    "def get_svodesh_range(word, model, svodesh):\n",
    "    syns = {}\n",
    "    tag = get_tagged(word)\n",
    "    \n",
    "    if tag and tag[0] in model:\n",
    "        syns = {s:model.similarity(tag[0],s) for s in svodesh}\n",
    "    return sorted(syns.items(), key=itemgetter(1), reverse=True)"
   ]
  },
  {
   "cell_type": "code",
   "execution_count": 9,
   "metadata": {},
   "outputs": [
    {
     "data": {
      "text/html": [
       "<div>\n",
       "<style scoped>\n",
       "    .dataframe tbody tr th:only-of-type {\n",
       "        vertical-align: middle;\n",
       "    }\n",
       "\n",
       "    .dataframe tbody tr th {\n",
       "        vertical-align: top;\n",
       "    }\n",
       "\n",
       "    .dataframe thead th {\n",
       "        text-align: right;\n",
       "    }\n",
       "</style>\n",
       "<table border=\"1\" class=\"dataframe\">\n",
       "  <thead>\n",
       "    <tr style=\"text-align: right;\">\n",
       "      <th></th>\n",
       "      <th>Unnamed: 0</th>\n",
       "      <th>Unnamed: 0.1</th>\n",
       "      <th>% intersection</th>\n",
       "      <th>svodesh/random</th>\n",
       "      <th>word</th>\n",
       "    </tr>\n",
       "  </thead>\n",
       "  <tbody>\n",
       "    <tr>\n",
       "      <th>0</th>\n",
       "      <td>0</td>\n",
       "      <td>0.0</td>\n",
       "      <td>0.139013</td>\n",
       "      <td>svodesh</td>\n",
       "      <td>несколько_ADV</td>\n",
       "    </tr>\n",
       "    <tr>\n",
       "      <th>1</th>\n",
       "      <td>1</td>\n",
       "      <td>1.0</td>\n",
       "      <td>0.047244</td>\n",
       "      <td>svodesh</td>\n",
       "      <td>немного_ADV</td>\n",
       "    </tr>\n",
       "    <tr>\n",
       "      <th>2</th>\n",
       "      <td>2</td>\n",
       "      <td>2.0</td>\n",
       "      <td>0.026923</td>\n",
       "      <td>svodesh</td>\n",
       "      <td>мало_ADV</td>\n",
       "    </tr>\n",
       "    <tr>\n",
       "      <th>3</th>\n",
       "      <td>3</td>\n",
       "      <td>3.0</td>\n",
       "      <td>0.100437</td>\n",
       "      <td>svodesh</td>\n",
       "      <td>четыре_NUM</td>\n",
       "    </tr>\n",
       "    <tr>\n",
       "      <th>4</th>\n",
       "      <td>4</td>\n",
       "      <td>4.0</td>\n",
       "      <td>0.143519</td>\n",
       "      <td>svodesh</td>\n",
       "      <td>пять_NUM</td>\n",
       "    </tr>\n",
       "  </tbody>\n",
       "</table>\n",
       "</div>"
      ],
      "text/plain": [
       "   Unnamed: 0  Unnamed: 0.1  % intersection svodesh/random           word\n",
       "0           0           0.0        0.139013        svodesh  несколько_ADV\n",
       "1           1           1.0        0.047244        svodesh    немного_ADV\n",
       "2           2           2.0        0.026923        svodesh       мало_ADV\n",
       "3           3           3.0        0.100437        svodesh     четыре_NUM\n",
       "4           4           4.0        0.143519        svodesh       пять_NUM"
      ]
     },
     "execution_count": 9,
     "metadata": {},
     "output_type": "execute_result"
    }
   ],
   "source": [
    "df = pd.read_csv('/media/mi_air/0F0B7DDE62EEA81E/vector/closest_word_intersection.csv', sep='\\t')\n",
    "df.head()"
   ]
  },
  {
   "cell_type": "code",
   "execution_count": 10,
   "metadata": {
    "collapsed": true
   },
   "outputs": [],
   "source": [
    "#frequent\n",
    "fr  = df[df['svodesh/random']=='freq']\n",
    "#svodesh\n",
    "sv = df[df['svodesh/random']=='svodesh']\n",
    "#random\n",
    "rn = df[df['svodesh/random']=='random']"
   ]
  },
  {
   "cell_type": "markdown",
   "metadata": {},
   "source": [
    "# эксперимент 1 - получаем 10 ближайших соседей по каждой модели для каждого слова\n",
    "\n",
    "по аранеа\n",
    "по новостям\n",
    "по нкря\n",
    "по вики\n",
    "\n",
    "затем для каждого слова считаем % пересечения соседей по моделям"
   ]
  },
  {
   "cell_type": "code",
   "execution_count": 13,
   "metadata": {
    "collapsed": true
   },
   "outputs": [],
   "source": [
    "dic_svodesh = {'aranea':{},'taiga':{}, 'rnc':{}}\n",
    "dic_random = { 'aranea':{},'taiga':{}, 'rnc':{}}\n",
    "dic_freq = {'aranea':{},'taiga':{}, 'rnc':{}}"
   ]
  },
  {
   "cell_type": "code",
   "execution_count": 11,
   "metadata": {
    "collapsed": true
   },
   "outputs": [],
   "source": [
    "#aranea\n",
    "WDIR = r'/media/mi_air/0F0B7DDE62EEA81E/vector'\n",
    "mname = r'araneum_upos_skipgram_300_2_2018.vec'\n",
    "mpath = os.path.join(WDIR, mname)"
   ]
  },
  {
   "cell_type": "code",
   "execution_count": 12,
   "metadata": {
    "collapsed": true
   },
   "outputs": [],
   "source": [
    "model = open_model(mpath)"
   ]
  },
  {
   "cell_type": "code",
   "execution_count": 14,
   "metadata": {
    "collapsed": true
   },
   "outputs": [],
   "source": [
    "num = 10"
   ]
  },
  {
   "cell_type": "code",
   "execution_count": 18,
   "metadata": {},
   "outputs": [
    {
     "name": "stderr",
     "output_type": "stream",
     "text": [
      "/home/mi_air/.local/lib/python3.5/site-packages/gensim/matutils.py:737: FutureWarning: Conversion of the second argument of issubdtype from `int` to `np.signedinteger` is deprecated. In future, it will be treated as `np.int64 == np.dtype(int).type`.\n",
      "  if np.issubdtype(vec.dtype, np.int):\n"
     ]
    }
   ],
   "source": [
    "for w in list(fr['word']):\n",
    "    if w not in dic_freq['aranea']:\n",
    "        dic_freq['aranea'][w] = model.most_similar(w,topn=num)"
   ]
  },
  {
   "cell_type": "code",
   "execution_count": 19,
   "metadata": {},
   "outputs": [
    {
     "name": "stderr",
     "output_type": "stream",
     "text": [
      "/home/mi_air/.local/lib/python3.5/site-packages/gensim/matutils.py:737: FutureWarning: Conversion of the second argument of issubdtype from `int` to `np.signedinteger` is deprecated. In future, it will be treated as `np.int64 == np.dtype(int).type`.\n",
      "  if np.issubdtype(vec.dtype, np.int):\n"
     ]
    }
   ],
   "source": [
    "for w in list(sv['word']):\n",
    "    if w not in dic_svodesh['aranea']:\n",
    "        dic_svodesh['aranea'][w] = model.most_similar(w,topn=num)"
   ]
  },
  {
   "cell_type": "code",
   "execution_count": 20,
   "metadata": {},
   "outputs": [
    {
     "name": "stderr",
     "output_type": "stream",
     "text": [
      "/home/mi_air/.local/lib/python3.5/site-packages/gensim/matutils.py:737: FutureWarning: Conversion of the second argument of issubdtype from `int` to `np.signedinteger` is deprecated. In future, it will be treated as `np.int64 == np.dtype(int).type`.\n",
      "  if np.issubdtype(vec.dtype, np.int):\n"
     ]
    }
   ],
   "source": [
    "for w in list(rn['word']):\n",
    "    if w not in dic_random['aranea']:\n",
    "        dic_random['aranea'][w] = model.most_similar(w,topn=num)"
   ]
  },
  {
   "cell_type": "code",
   "execution_count": 22,
   "metadata": {},
   "outputs": [
    {
     "name": "stderr",
     "output_type": "stream",
     "text": [
      "/home/mi_air/.local/lib/python3.5/site-packages/gensim/matutils.py:737: FutureWarning: Conversion of the second argument of issubdtype from `int` to `np.signedinteger` is deprecated. In future, it will be treated as `np.int64 == np.dtype(int).type`.\n",
      "  if np.issubdtype(vec.dtype, np.int):\n"
     ]
    }
   ],
   "source": [
    "#rnc\n",
    "mpath = os.path.join(WDIR, 'ruscorpora_upos_skipgram_300_5_2018.vec')\n",
    "model = open_model(mpath)\n",
    "for w in list(fr['word']):\n",
    "    if w not in dic_freq['rnc']:\n",
    "        try:\n",
    "            dic_freq['rnc'][w] = model.most_similar(w,topn=num)\n",
    "        except:\n",
    "            dic_freq['rnc'][w] = []"
   ]
  },
  {
   "cell_type": "code",
   "execution_count": 23,
   "metadata": {},
   "outputs": [
    {
     "name": "stderr",
     "output_type": "stream",
     "text": [
      "/home/mi_air/.local/lib/python3.5/site-packages/gensim/matutils.py:737: FutureWarning: Conversion of the second argument of issubdtype from `int` to `np.signedinteger` is deprecated. In future, it will be treated as `np.int64 == np.dtype(int).type`.\n",
      "  if np.issubdtype(vec.dtype, np.int):\n"
     ]
    }
   ],
   "source": [
    "for w in list(sv['word']):\n",
    "    if w not in dic_svodesh['rnc']:\n",
    "        try:\n",
    "            dic_svodesh['rnc'][w] = model.most_similar(w,topn=num)\n",
    "        except:\n",
    "            dic_svodesh['rnc'][w] = []"
   ]
  },
  {
   "cell_type": "code",
   "execution_count": 27,
   "metadata": {},
   "outputs": [],
   "source": [
    "for w in list(rn['word']):\n",
    "    if w not in dic_random['rnc']:\n",
    "        try:\n",
    "            dic_random['rnc'][w] = model.most_similar(w,topn=num)\n",
    "        except:\n",
    "            print(w)\n",
    "            dic_random['rnc'][w] = []"
   ]
  },
  {
   "cell_type": "code",
   "execution_count": 28,
   "metadata": {
    "collapsed": true
   },
   "outputs": [],
   "source": [
    "#taiga\n",
    "mpath = os.path.join(WDIR, 'tayga_1_2.vec')\n",
    "model = open_model(mpath)"
   ]
  },
  {
   "cell_type": "code",
   "execution_count": 29,
   "metadata": {},
   "outputs": [
    {
     "name": "stderr",
     "output_type": "stream",
     "text": [
      "/home/mi_air/.local/lib/python3.5/site-packages/gensim/matutils.py:737: FutureWarning: Conversion of the second argument of issubdtype from `int` to `np.signedinteger` is deprecated. In future, it will be treated as `np.int64 == np.dtype(int).type`.\n",
      "  if np.issubdtype(vec.dtype, np.int):\n"
     ]
    }
   ],
   "source": [
    "for w in list(fr['word']):\n",
    "    if w not in dic_freq['taiga']:\n",
    "        try:\n",
    "            dic_freq['taiga'][w] = model.most_similar(w,topn=num)\n",
    "        except:\n",
    "            dic_freq['taiga'][w] = []"
   ]
  },
  {
   "cell_type": "code",
   "execution_count": 30,
   "metadata": {},
   "outputs": [
    {
     "name": "stderr",
     "output_type": "stream",
     "text": [
      "/home/mi_air/.local/lib/python3.5/site-packages/gensim/matutils.py:737: FutureWarning: Conversion of the second argument of issubdtype from `int` to `np.signedinteger` is deprecated. In future, it will be treated as `np.int64 == np.dtype(int).type`.\n",
      "  if np.issubdtype(vec.dtype, np.int):\n"
     ]
    }
   ],
   "source": [
    "for w in list(sv['word']):\n",
    "    if w not in dic_svodesh['taiga']:\n",
    "        try:\n",
    "            dic_svodesh['taiga'][w] = model.most_similar(w,topn=num)\n",
    "        except:\n",
    "            dic_svodesh['taiga'][w] = []"
   ]
  },
  {
   "cell_type": "code",
   "execution_count": 31,
   "metadata": {},
   "outputs": [
    {
     "name": "stderr",
     "output_type": "stream",
     "text": [
      "/home/mi_air/.local/lib/python3.5/site-packages/gensim/matutils.py:737: FutureWarning: Conversion of the second argument of issubdtype from `int` to `np.signedinteger` is deprecated. In future, it will be treated as `np.int64 == np.dtype(int).type`.\n",
      "  if np.issubdtype(vec.dtype, np.int):\n"
     ]
    }
   ],
   "source": [
    "for w in list(rn['word']):\n",
    "    if w not in dic_random['taiga']:\n",
    "        try:\n",
    "            dic_random['taiga'][w] = model.most_similar(w,topn=num)\n",
    "        except:\n",
    "            print(w)\n",
    "            dic_random['taiga'][w] = []"
   ]
  },
  {
   "cell_type": "code",
   "execution_count": 32,
   "metadata": {
    "collapsed": true
   },
   "outputs": [],
   "source": [
    "import pandas as pd\n"
   ]
  },
  {
   "cell_type": "code",
   "execution_count": 33,
   "metadata": {
    "collapsed": true
   },
   "outputs": [],
   "source": [
    "def count_set(list1, list2, list3):\n",
    "    set1, set2, set3 = set(list1), set(list2), set(list3)\n",
    "    d = set.intersection(set1, set2, set3)\n",
    "    u = set(list(set1)+list(set2)+list(set3))\n",
    "    return len(d)/len(u)"
   ]
  },
  {
   "cell_type": "code",
   "execution_count": 34,
   "metadata": {
    "collapsed": true
   },
   "outputs": [],
   "source": [
    "def get_words(dic):\n",
    "    return [i[0] for i in dic]"
   ]
  },
  {
   "cell_type": "code",
   "execution_count": 35,
   "metadata": {},
   "outputs": [
    {
     "data": {
      "text/html": [
       "<div>\n",
       "<style scoped>\n",
       "    .dataframe tbody tr th:only-of-type {\n",
       "        vertical-align: middle;\n",
       "    }\n",
       "\n",
       "    .dataframe tbody tr th {\n",
       "        vertical-align: top;\n",
       "    }\n",
       "\n",
       "    .dataframe thead th {\n",
       "        text-align: right;\n",
       "    }\n",
       "</style>\n",
       "<table border=\"1\" class=\"dataframe\">\n",
       "  <thead>\n",
       "    <tr style=\"text-align: right;\">\n",
       "      <th></th>\n",
       "      <th>% intersection</th>\n",
       "      <th>svodesh/random</th>\n",
       "      <th>word</th>\n",
       "    </tr>\n",
       "  </thead>\n",
       "  <tbody>\n",
       "    <tr>\n",
       "      <th>0</th>\n",
       "      <td>0.200000</td>\n",
       "      <td>svodesh</td>\n",
       "      <td>несколько_ADV</td>\n",
       "    </tr>\n",
       "    <tr>\n",
       "      <th>1</th>\n",
       "      <td>0.210526</td>\n",
       "      <td>svodesh</td>\n",
       "      <td>немного_ADV</td>\n",
       "    </tr>\n",
       "    <tr>\n",
       "      <th>2</th>\n",
       "      <td>0.041667</td>\n",
       "      <td>svodesh</td>\n",
       "      <td>мало_ADV</td>\n",
       "    </tr>\n",
       "    <tr>\n",
       "      <th>3</th>\n",
       "      <td>0.750000</td>\n",
       "      <td>svodesh</td>\n",
       "      <td>четыре_NUM</td>\n",
       "    </tr>\n",
       "    <tr>\n",
       "      <th>4</th>\n",
       "      <td>0.538462</td>\n",
       "      <td>svodesh</td>\n",
       "      <td>пять_NUM</td>\n",
       "    </tr>\n",
       "  </tbody>\n",
       "</table>\n",
       "</div>"
      ],
      "text/plain": [
       "   % intersection svodesh/random           word\n",
       "0        0.200000        svodesh  несколько_ADV\n",
       "1        0.210526        svodesh    немного_ADV\n",
       "2        0.041667        svodesh       мало_ADV\n",
       "3        0.750000        svodesh     четыре_NUM\n",
       "4        0.538462        svodesh       пять_NUM"
      ]
     },
     "execution_count": 35,
     "metadata": {},
     "output_type": "execute_result"
    }
   ],
   "source": [
    "rows_list = []\n",
    "for word in list(sv['word']):\n",
    "        dict1 = {}\n",
    "        dict1['word'] = word\n",
    "        dict1['svodesh/random'] = 'svodesh'\n",
    "        dict1['% intersection'] = count_set(get_words(dic_svodesh['taiga'][word]),get_words(dic_svodesh['aranea'][word]),get_words(dic_svodesh['rnc'][word]))\n",
    "        rows_list.append(dict1)\n",
    "for word in list(rn['word']):\n",
    "        dict1 = {}\n",
    "        dict1['word'] = word\n",
    "        dict1['svodesh/random'] = 'random'\n",
    "        dict1['% intersection'] = count_set(get_words(dic_random['taiga'][word]),get_words(dic_random['aranea'][word]),get_words(dic_random['rnc'][word]))\n",
    "        rows_list.append(dict1)\n",
    "for word in list(fr['word']):\n",
    "        dict1 = {}\n",
    "        dict1['word'] = word\n",
    "        dict1['svodesh/random'] = 'freq'\n",
    "        dict1['% intersection'] = count_set(get_words(dic_freq['taiga'][word]),get_words(dic_freq['aranea'][word]),get_words(dic_freq['rnc'][word]))\n",
    "        rows_list.append(dict1)\n",
    "df10 = pd.DataFrame(rows_list) \n",
    "df10.head()"
   ]
  },
  {
   "cell_type": "code",
   "execution_count": 36,
   "metadata": {},
   "outputs": [
    {
     "data": {
      "text/plain": [
       "svodesh    173\n",
       "random     173\n",
       "freq       173\n",
       "Name: svodesh/random, dtype: int64"
      ]
     },
     "execution_count": 36,
     "metadata": {},
     "output_type": "execute_result"
    }
   ],
   "source": [
    "df10['svodesh/random'].value_counts()"
   ]
  },
  {
   "cell_type": "code",
   "execution_count": 52,
   "metadata": {
    "collapsed": true
   },
   "outputs": [],
   "source": [
    "#frequent\n",
    "fr  = df10[df10['svodesh/random']=='freq']\n",
    "#svodesh\n",
    "sv = df10[df10['svodesh/random']=='svodesh']\n",
    "#random\n",
    "rn = df10[df10['svodesh/random']=='random']"
   ]
  },
  {
   "cell_type": "code",
   "execution_count": 38,
   "metadata": {
    "collapsed": true
   },
   "outputs": [],
   "source": [
    "#манн-уитни\n",
    "from scipy.stats import mannwhitneyu"
   ]
  },
  {
   "cell_type": "code",
   "execution_count": 53,
   "metadata": {},
   "outputs": [
    {
     "data": {
      "text/plain": [
       "MannwhitneyuResult(statistic=24112.5, pvalue=1.0)"
      ]
     },
     "execution_count": 53,
     "metadata": {},
     "output_type": "execute_result"
    }
   ],
   "source": [
    "mannwhitneyu(sorted(sv['% intersection']), sorted(rn['% intersection']), use_continuity=True, alternative='less')"
   ]
  },
  {
   "cell_type": "code",
   "execution_count": 54,
   "metadata": {
    "collapsed": true
   },
   "outputs": [],
   "source": [
    "#Получается, что нулевая гипотеза о том, что степень признака в выборках неравна (в первой меньше) неверна\n",
    "#принимается альтернативная гипотеза, что в случайной выборке слов степень признака меньше"
   ]
  },
  {
   "cell_type": "code",
   "execution_count": 55,
   "metadata": {},
   "outputs": [
    {
     "data": {
      "text/plain": [
       "MannwhitneyuResult(statistic=14073.0, pvalue=0.1677503491735992)"
      ]
     },
     "execution_count": 55,
     "metadata": {},
     "output_type": "execute_result"
    }
   ],
   "source": [
    "mannwhitneyu(sorted(sv['% intersection']), sorted(fr['% intersection']), use_continuity=True, alternative='less')"
   ]
  },
  {
   "cell_type": "code",
   "execution_count": 56,
   "metadata": {},
   "outputs": [
    {
     "data": {
      "text/plain": [
       "MannwhitneyuResult(statistic=23695.5, pvalue=1.0)"
      ]
     },
     "execution_count": 56,
     "metadata": {},
     "output_type": "execute_result"
    }
   ],
   "source": [
    "mannwhitneyu(sorted(fr['% intersection']), sorted(rn['% intersection']), use_continuity=True, alternative='less')"
   ]
  },
  {
   "cell_type": "code",
   "execution_count": null,
   "metadata": {
    "collapsed": true
   },
   "outputs": [],
   "source": [
    "# получается, что слова из списка сводеша более устойчивы к различным моделям, чем просто частотные слова\n",
    "# а частотные слова более устойчивы, чем случайные"
   ]
  },
  {
   "cell_type": "code",
   "execution_count": 57,
   "metadata": {
    "collapsed": true
   },
   "outputs": [],
   "source": [
    "df10.to_csv(path_or_buf='/media/mi_air/0F0B7DDE62EEA81E/vector/closest_word_intersection_10.csv', sep='\\t')"
   ]
  },
  {
   "cell_type": "code",
   "execution_count": null,
   "metadata": {
    "collapsed": true
   },
   "outputs": [],
   "source": []
  },
  {
   "cell_type": "markdown",
   "metadata": {
    "collapsed": true
   },
   "source": [
    "## 20 ближайших"
   ]
  },
  {
   "cell_type": "code",
   "execution_count": 43,
   "metadata": {},
   "outputs": [
    {
     "name": "stderr",
     "output_type": "stream",
     "text": [
      "/home/mi_air/.local/lib/python3.5/site-packages/gensim/matutils.py:737: FutureWarning: Conversion of the second argument of issubdtype from `int` to `np.signedinteger` is deprecated. In future, it will be treated as `np.int64 == np.dtype(int).type`.\n",
      "  if np.issubdtype(vec.dtype, np.int):\n"
     ]
    },
    {
     "data": {
      "text/html": [
       "<div>\n",
       "<style scoped>\n",
       "    .dataframe tbody tr th:only-of-type {\n",
       "        vertical-align: middle;\n",
       "    }\n",
       "\n",
       "    .dataframe tbody tr th {\n",
       "        vertical-align: top;\n",
       "    }\n",
       "\n",
       "    .dataframe thead th {\n",
       "        text-align: right;\n",
       "    }\n",
       "</style>\n",
       "<table border=\"1\" class=\"dataframe\">\n",
       "  <thead>\n",
       "    <tr style=\"text-align: right;\">\n",
       "      <th></th>\n",
       "      <th>% intersection</th>\n",
       "      <th>svodesh/random</th>\n",
       "      <th>word</th>\n",
       "    </tr>\n",
       "  </thead>\n",
       "  <tbody>\n",
       "    <tr>\n",
       "      <th>0</th>\n",
       "      <td>0.195122</td>\n",
       "      <td>svodesh</td>\n",
       "      <td>несколько_ADV</td>\n",
       "    </tr>\n",
       "    <tr>\n",
       "      <th>1</th>\n",
       "      <td>0.142857</td>\n",
       "      <td>svodesh</td>\n",
       "      <td>немного_ADV</td>\n",
       "    </tr>\n",
       "    <tr>\n",
       "      <th>2</th>\n",
       "      <td>0.061224</td>\n",
       "      <td>svodesh</td>\n",
       "      <td>мало_ADV</td>\n",
       "    </tr>\n",
       "    <tr>\n",
       "      <th>3</th>\n",
       "      <td>0.323529</td>\n",
       "      <td>svodesh</td>\n",
       "      <td>четыре_NUM</td>\n",
       "    </tr>\n",
       "    <tr>\n",
       "      <th>4</th>\n",
       "      <td>0.555556</td>\n",
       "      <td>svodesh</td>\n",
       "      <td>пять_NUM</td>\n",
       "    </tr>\n",
       "  </tbody>\n",
       "</table>\n",
       "</div>"
      ],
      "text/plain": [
       "   % intersection svodesh/random           word\n",
       "0        0.195122        svodesh  несколько_ADV\n",
       "1        0.142857        svodesh    немного_ADV\n",
       "2        0.061224        svodesh       мало_ADV\n",
       "3        0.323529        svodesh     четыре_NUM\n",
       "4        0.555556        svodesh       пять_NUM"
      ]
     },
     "execution_count": 43,
     "metadata": {},
     "output_type": "execute_result"
    }
   ],
   "source": [
    "num = 20\n",
    "dic_svodesh = {'aranea':{},'taiga':{}, 'rnc':{}}\n",
    "dic_random = { 'aranea':{},'taiga':{}, 'rnc':{}}\n",
    "dic_freq = {'aranea':{},'taiga':{}, 'rnc':{}}\n",
    "\n",
    "#aranea\n",
    "WDIR = r'/media/mi_air/0F0B7DDE62EEA81E/vector'\n",
    "mname = r'araneum_upos_skipgram_300_2_2018.vec'\n",
    "mpath = os.path.join(WDIR, mname)\n",
    "model = open_model(mpath)\n",
    "\n",
    "for w in list(fr['word']):\n",
    "    if w not in dic_freq['aranea']:\n",
    "        dic_freq['aranea'][w] = model.most_similar(w,topn=num)\n",
    "for w in list(sv['word']):\n",
    "    if w not in dic_svodesh['aranea']:\n",
    "        dic_svodesh['aranea'][w] = model.most_similar(w,topn=num)\n",
    "for w in list(rn['word']):\n",
    "    if w not in dic_random['aranea']:\n",
    "        dic_random['aranea'][w] = model.most_similar(w,topn=num)\n",
    "#rnc\n",
    "mpath = os.path.join(WDIR, 'ruscorpora_upos_skipgram_300_5_2018.vec')\n",
    "model = open_model(mpath)\n",
    "for w in list(fr['word']):\n",
    "    if w not in dic_freq['rnc']:\n",
    "        try:\n",
    "            dic_freq['rnc'][w] = model.most_similar(w,topn=num)\n",
    "        except:\n",
    "            dic_freq['rnc'][w] = []\n",
    "for w in list(sv['word']):\n",
    "    if w not in dic_svodesh['rnc']:\n",
    "        try:\n",
    "            dic_svodesh['rnc'][w] = model.most_similar(w,topn=num)\n",
    "        except:\n",
    "            dic_svodesh['rnc'][w] = []\n",
    "for w in list(rn['word']):\n",
    "    if w not in dic_random['rnc']:\n",
    "        try:\n",
    "            dic_random['rnc'][w] = model.most_similar(w,topn=num)\n",
    "        except:\n",
    "            dic_random['rnc'][w] = []\n",
    "#taiga\n",
    "mpath = os.path.join(WDIR, 'tayga_1_2.vec')\n",
    "model = open_model(mpath)\n",
    "for w in list(fr['word']):\n",
    "    if w not in dic_freq['taiga']:\n",
    "        try:\n",
    "            dic_freq['taiga'][w] = model.most_similar(w,topn=num)\n",
    "        except:\n",
    "            dic_freq['taiga'][w] = []\n",
    "for w in list(sv['word']):\n",
    "    if w not in dic_svodesh['taiga']:\n",
    "        try:\n",
    "            dic_svodesh['taiga'][w] = model.most_similar(w,topn=num)\n",
    "        except:\n",
    "            dic_svodesh['taiga'][w] = []\n",
    "for w in list(rn['word']):\n",
    "    if w not in dic_random['taiga']:\n",
    "        try:\n",
    "            dic_random['taiga'][w] = model.most_similar(w,topn=num)\n",
    "        except:\n",
    "            print(w)\n",
    "            dic_random['taiga'][w] = []\n",
    "rows_list = []\n",
    "for word in list(sv['word']):\n",
    "        dict1 = {}\n",
    "        dict1['word'] = word\n",
    "        dict1['svodesh/random'] = 'svodesh'\n",
    "        dict1['% intersection'] = count_set(get_words(dic_svodesh['taiga'][word]),get_words(dic_svodesh['aranea'][word]),get_words(dic_svodesh['rnc'][word]))\n",
    "        rows_list.append(dict1)\n",
    "for word in list(rn['word']):\n",
    "        dict1 = {}\n",
    "        dict1['word'] = word\n",
    "        dict1['svodesh/random'] = 'random'\n",
    "        dict1['% intersection'] = count_set(get_words(dic_random['taiga'][word]),get_words(dic_random['aranea'][word]),get_words(dic_random['rnc'][word]))\n",
    "        rows_list.append(dict1)\n",
    "for word in list(fr['word']):\n",
    "        dict1 = {}\n",
    "        dict1['word'] = word\n",
    "        dict1['svodesh/random'] = 'freq'\n",
    "        dict1['% intersection'] = count_set(get_words(dic_freq['taiga'][word]),get_words(dic_freq['aranea'][word]),get_words(dic_freq['rnc'][word]))\n",
    "        rows_list.append(dict1)\n",
    "df20 = pd.DataFrame(rows_list) \n",
    "df20.head()"
   ]
  },
  {
   "cell_type": "code",
   "execution_count": 46,
   "metadata": {},
   "outputs": [],
   "source": [
    "#frequent\n",
    "fr  = df20[df20['svodesh/random']=='freq']\n",
    "#svodesh\n",
    "sv = df20[df20['svodesh/random']=='svodesh']\n",
    "#random\n",
    "rn = df20[df20['svodesh/random']=='random']"
   ]
  },
  {
   "cell_type": "code",
   "execution_count": 47,
   "metadata": {},
   "outputs": [
    {
     "data": {
      "text/plain": [
       "MannwhitneyuResult(statistic=20041.0, pvalue=0.9999999786626149)"
      ]
     },
     "execution_count": 47,
     "metadata": {},
     "output_type": "execute_result"
    }
   ],
   "source": [
    "mannwhitneyu(sorted(sv['% intersection']), sorted(rn['% intersection']), use_continuity=True, alternative='less')"
   ]
  },
  {
   "cell_type": "code",
   "execution_count": 48,
   "metadata": {},
   "outputs": [
    {
     "data": {
      "text/plain": [
       "MannwhitneyuResult(statistic=13684.0, pvalue=0.08434547546665477)"
      ]
     },
     "execution_count": 48,
     "metadata": {},
     "output_type": "execute_result"
    }
   ],
   "source": [
    "mannwhitneyu(sorted(sv['% intersection']), sorted(fr['% intersection']), use_continuity=True, alternative='less')"
   ]
  },
  {
   "cell_type": "code",
   "execution_count": 49,
   "metadata": {},
   "outputs": [
    {
     "data": {
      "text/plain": [
       "MannwhitneyuResult(statistic=20912.5, pvalue=0.9999999999321715)"
      ]
     },
     "execution_count": 49,
     "metadata": {},
     "output_type": "execute_result"
    }
   ],
   "source": [
    "mannwhitneyu(sorted(fr['% intersection']), sorted(rn['% intersection']), use_continuity=True, alternative='less')"
   ]
  },
  {
   "cell_type": "code",
   "execution_count": 51,
   "metadata": {
    "collapsed": true
   },
   "outputs": [],
   "source": [
    "df20.to_csv(path_or_buf='/media/mi_air/0F0B7DDE62EEA81E/vector/closest_word_intersection_20.csv', sep='\\t')"
   ]
  },
  {
   "cell_type": "markdown",
   "metadata": {},
   "source": [
    "## 50 ближайших"
   ]
  },
  {
   "cell_type": "code",
   "execution_count": 58,
   "metadata": {},
   "outputs": [
    {
     "name": "stderr",
     "output_type": "stream",
     "text": [
      "/home/mi_air/.local/lib/python3.5/site-packages/gensim/matutils.py:737: FutureWarning: Conversion of the second argument of issubdtype from `int` to `np.signedinteger` is deprecated. In future, it will be treated as `np.int64 == np.dtype(int).type`.\n",
      "  if np.issubdtype(vec.dtype, np.int):\n"
     ]
    },
    {
     "data": {
      "text/html": [
       "<div>\n",
       "<style scoped>\n",
       "    .dataframe tbody tr th:only-of-type {\n",
       "        vertical-align: middle;\n",
       "    }\n",
       "\n",
       "    .dataframe tbody tr th {\n",
       "        vertical-align: top;\n",
       "    }\n",
       "\n",
       "    .dataframe thead th {\n",
       "        text-align: right;\n",
       "    }\n",
       "</style>\n",
       "<table border=\"1\" class=\"dataframe\">\n",
       "  <thead>\n",
       "    <tr style=\"text-align: right;\">\n",
       "      <th></th>\n",
       "      <th>% intersection</th>\n",
       "      <th>svodesh/random</th>\n",
       "      <th>word</th>\n",
       "    </tr>\n",
       "  </thead>\n",
       "  <tbody>\n",
       "    <tr>\n",
       "      <th>0</th>\n",
       "      <td>0.218750</td>\n",
       "      <td>svodesh</td>\n",
       "      <td>несколько_ADV</td>\n",
       "    </tr>\n",
       "    <tr>\n",
       "      <th>1</th>\n",
       "      <td>0.076923</td>\n",
       "      <td>svodesh</td>\n",
       "      <td>немного_ADV</td>\n",
       "    </tr>\n",
       "    <tr>\n",
       "      <th>2</th>\n",
       "      <td>0.039683</td>\n",
       "      <td>svodesh</td>\n",
       "      <td>мало_ADV</td>\n",
       "    </tr>\n",
       "    <tr>\n",
       "      <th>3</th>\n",
       "      <td>0.163462</td>\n",
       "      <td>svodesh</td>\n",
       "      <td>четыре_NUM</td>\n",
       "    </tr>\n",
       "    <tr>\n",
       "      <th>4</th>\n",
       "      <td>0.290698</td>\n",
       "      <td>svodesh</td>\n",
       "      <td>пять_NUM</td>\n",
       "    </tr>\n",
       "  </tbody>\n",
       "</table>\n",
       "</div>"
      ],
      "text/plain": [
       "   % intersection svodesh/random           word\n",
       "0        0.218750        svodesh  несколько_ADV\n",
       "1        0.076923        svodesh    немного_ADV\n",
       "2        0.039683        svodesh       мало_ADV\n",
       "3        0.163462        svodesh     четыре_NUM\n",
       "4        0.290698        svodesh       пять_NUM"
      ]
     },
     "execution_count": 58,
     "metadata": {},
     "output_type": "execute_result"
    }
   ],
   "source": [
    "num = 50\n",
    "dic_svodesh = {'aranea':{},'taiga':{}, 'rnc':{}}\n",
    "dic_random = { 'aranea':{},'taiga':{}, 'rnc':{}}\n",
    "dic_freq = {'aranea':{},'taiga':{}, 'rnc':{}}\n",
    "\n",
    "#aranea\n",
    "WDIR = r'/media/mi_air/0F0B7DDE62EEA81E/vector'\n",
    "mname = r'araneum_upos_skipgram_300_2_2018.vec'\n",
    "mpath = os.path.join(WDIR, mname)\n",
    "model = open_model(mpath)\n",
    "\n",
    "for w in list(fr['word']):\n",
    "    if w not in dic_freq['aranea']:\n",
    "        dic_freq['aranea'][w] = model.most_similar(w,topn=num)\n",
    "for w in list(sv['word']):\n",
    "    if w not in dic_svodesh['aranea']:\n",
    "        dic_svodesh['aranea'][w] = model.most_similar(w,topn=num)\n",
    "for w in list(rn['word']):\n",
    "    if w not in dic_random['aranea']:\n",
    "        dic_random['aranea'][w] = model.most_similar(w,topn=num)\n",
    "#rnc\n",
    "mpath = os.path.join(WDIR, 'ruscorpora_upos_skipgram_300_5_2018.vec')\n",
    "model = open_model(mpath)\n",
    "for w in list(fr['word']):\n",
    "    if w not in dic_freq['rnc']:\n",
    "        try:\n",
    "            dic_freq['rnc'][w] = model.most_similar(w,topn=num)\n",
    "        except:\n",
    "            dic_freq['rnc'][w] = []\n",
    "for w in list(sv['word']):\n",
    "    if w not in dic_svodesh['rnc']:\n",
    "        try:\n",
    "            dic_svodesh['rnc'][w] = model.most_similar(w,topn=num)\n",
    "        except:\n",
    "            dic_svodesh['rnc'][w] = []\n",
    "for w in list(rn['word']):\n",
    "    if w not in dic_random['rnc']:\n",
    "        try:\n",
    "            dic_random['rnc'][w] = model.most_similar(w,topn=num)\n",
    "        except:\n",
    "            dic_random['rnc'][w] = []\n",
    "#taiga\n",
    "mpath = os.path.join(WDIR, 'tayga_1_2.vec')\n",
    "model = open_model(mpath)\n",
    "for w in list(fr['word']):\n",
    "    if w not in dic_freq['taiga']:\n",
    "        try:\n",
    "            dic_freq['taiga'][w] = model.most_similar(w,topn=num)\n",
    "        except:\n",
    "            dic_freq['taiga'][w] = []\n",
    "for w in list(sv['word']):\n",
    "    if w not in dic_svodesh['taiga']:\n",
    "        try:\n",
    "            dic_svodesh['taiga'][w] = model.most_similar(w,topn=num)\n",
    "        except:\n",
    "            dic_svodesh['taiga'][w] = []\n",
    "for w in list(rn['word']):\n",
    "    if w not in dic_random['taiga']:\n",
    "        try:\n",
    "            dic_random['taiga'][w] = model.most_similar(w,topn=num)\n",
    "        except:\n",
    "            print(w)\n",
    "            dic_random['taiga'][w] = []\n",
    "rows_list = []\n",
    "for word in list(sv['word']):\n",
    "        dict1 = {}\n",
    "        dict1['word'] = word\n",
    "        dict1['svodesh/random'] = 'svodesh'\n",
    "        dict1['% intersection'] = count_set(get_words(dic_svodesh['taiga'][word]),get_words(dic_svodesh['aranea'][word]),get_words(dic_svodesh['rnc'][word]))\n",
    "        rows_list.append(dict1)\n",
    "for word in list(rn['word']):\n",
    "        dict1 = {}\n",
    "        dict1['word'] = word\n",
    "        dict1['svodesh/random'] = 'random'\n",
    "        dict1['% intersection'] = count_set(get_words(dic_random['taiga'][word]),get_words(dic_random['aranea'][word]),get_words(dic_random['rnc'][word]))\n",
    "        rows_list.append(dict1)\n",
    "for word in list(fr['word']):\n",
    "        dict1 = {}\n",
    "        dict1['word'] = word\n",
    "        dict1['svodesh/random'] = 'freq'\n",
    "        dict1['% intersection'] = count_set(get_words(dic_freq['taiga'][word]),get_words(dic_freq['aranea'][word]),get_words(dic_freq['rnc'][word]))\n",
    "        rows_list.append(dict1)\n",
    "df50 = pd.DataFrame(rows_list) \n",
    "df50.head()"
   ]
  },
  {
   "cell_type": "code",
   "execution_count": 59,
   "metadata": {
    "collapsed": true
   },
   "outputs": [],
   "source": [
    "#frequent\n",
    "fr  = df50[df50['svodesh/random']=='freq']\n",
    "#svodesh\n",
    "sv = df50[df50['svodesh/random']=='svodesh']\n",
    "#random\n",
    "rn = df50[df50['svodesh/random']=='random']"
   ]
  },
  {
   "cell_type": "code",
   "execution_count": 60,
   "metadata": {},
   "outputs": [
    {
     "data": {
      "text/plain": [
       "MannwhitneyuResult(statistic=21708.0, pvalue=0.9999999999997976)"
      ]
     },
     "execution_count": 60,
     "metadata": {},
     "output_type": "execute_result"
    }
   ],
   "source": [
    "mannwhitneyu(sorted(sv['% intersection']), sorted(rn['% intersection']), use_continuity=True, alternative='less')"
   ]
  },
  {
   "cell_type": "code",
   "execution_count": 61,
   "metadata": {},
   "outputs": [
    {
     "data": {
      "text/plain": [
       "MannwhitneyuResult(statistic=16260.0, pvalue=0.9182170025990256)"
      ]
     },
     "execution_count": 61,
     "metadata": {},
     "output_type": "execute_result"
    }
   ],
   "source": [
    "mannwhitneyu(sorted(sv['% intersection']), sorted(fr['% intersection']), use_continuity=True, alternative='less')"
   ]
  },
  {
   "cell_type": "code",
   "execution_count": 62,
   "metadata": {},
   "outputs": [
    {
     "data": {
      "text/plain": [
       "MannwhitneyuResult(statistic=20636.0, pvalue=0.9999999994735176)"
      ]
     },
     "execution_count": 62,
     "metadata": {},
     "output_type": "execute_result"
    }
   ],
   "source": [
    "mannwhitneyu(sorted(fr['% intersection']), sorted(rn['% intersection']), use_continuity=True, alternative='less')"
   ]
  },
  {
   "cell_type": "code",
   "execution_count": 63,
   "metadata": {
    "collapsed": true
   },
   "outputs": [],
   "source": [
    "df50.to_csv(path_or_buf='/media/mi_air/0F0B7DDE62EEA81E/vector/closest_word_intersection_50.csv', sep='\\t')"
   ]
  },
  {
   "cell_type": "markdown",
   "metadata": {},
   "source": [
    "## 100 ближайших"
   ]
  },
  {
   "cell_type": "code",
   "execution_count": 77,
   "metadata": {},
   "outputs": [
    {
     "name": "stderr",
     "output_type": "stream",
     "text": [
      "/home/mi_air/.local/lib/python3.5/site-packages/gensim/matutils.py:737: FutureWarning: Conversion of the second argument of issubdtype from `int` to `np.signedinteger` is deprecated. In future, it will be treated as `np.int64 == np.dtype(int).type`.\n",
      "  if np.issubdtype(vec.dtype, np.int):\n"
     ]
    },
    {
     "data": {
      "text/html": [
       "<div>\n",
       "<style scoped>\n",
       "    .dataframe tbody tr th:only-of-type {\n",
       "        vertical-align: middle;\n",
       "    }\n",
       "\n",
       "    .dataframe tbody tr th {\n",
       "        vertical-align: top;\n",
       "    }\n",
       "\n",
       "    .dataframe thead th {\n",
       "        text-align: right;\n",
       "    }\n",
       "</style>\n",
       "<table border=\"1\" class=\"dataframe\">\n",
       "  <thead>\n",
       "    <tr style=\"text-align: right;\">\n",
       "      <th></th>\n",
       "      <th>% intersection</th>\n",
       "      <th>svodesh/random</th>\n",
       "      <th>word</th>\n",
       "    </tr>\n",
       "  </thead>\n",
       "  <tbody>\n",
       "    <tr>\n",
       "      <th>0</th>\n",
       "      <td>0.139013</td>\n",
       "      <td>svodesh</td>\n",
       "      <td>несколько_ADV</td>\n",
       "    </tr>\n",
       "    <tr>\n",
       "      <th>1</th>\n",
       "      <td>0.047244</td>\n",
       "      <td>svodesh</td>\n",
       "      <td>немного_ADV</td>\n",
       "    </tr>\n",
       "    <tr>\n",
       "      <th>2</th>\n",
       "      <td>0.026923</td>\n",
       "      <td>svodesh</td>\n",
       "      <td>мало_ADV</td>\n",
       "    </tr>\n",
       "    <tr>\n",
       "      <th>3</th>\n",
       "      <td>0.100437</td>\n",
       "      <td>svodesh</td>\n",
       "      <td>четыре_NUM</td>\n",
       "    </tr>\n",
       "    <tr>\n",
       "      <th>4</th>\n",
       "      <td>0.143519</td>\n",
       "      <td>svodesh</td>\n",
       "      <td>пять_NUM</td>\n",
       "    </tr>\n",
       "  </tbody>\n",
       "</table>\n",
       "</div>"
      ],
      "text/plain": [
       "   % intersection svodesh/random           word\n",
       "0        0.139013        svodesh  несколько_ADV\n",
       "1        0.047244        svodesh    немного_ADV\n",
       "2        0.026923        svodesh       мало_ADV\n",
       "3        0.100437        svodesh     четыре_NUM\n",
       "4        0.143519        svodesh       пять_NUM"
      ]
     },
     "execution_count": 77,
     "metadata": {},
     "output_type": "execute_result"
    }
   ],
   "source": [
    "num = 100\n",
    "dic_svodesh = {'aranea':{},'taiga':{}, 'rnc':{}}\n",
    "dic_random = { 'aranea':{},'taiga':{}, 'rnc':{}}\n",
    "dic_freq = {'aranea':{},'taiga':{}, 'rnc':{}}\n",
    "\n",
    "#aranea\n",
    "WDIR = r'/media/mi_air/0F0B7DDE62EEA81E/vector'\n",
    "mname = r'araneum_upos_skipgram_300_2_2018.vec'\n",
    "mpath = os.path.join(WDIR, mname)\n",
    "model = open_model(mpath)\n",
    "\n",
    "for w in list(fr['word']):\n",
    "    if w not in dic_freq['aranea']:\n",
    "        dic_freq['aranea'][w] = model.most_similar(w,topn=num)\n",
    "for w in list(sv['word']):\n",
    "    if w not in dic_svodesh['aranea']:\n",
    "        dic_svodesh['aranea'][w] = model.most_similar(w,topn=num)\n",
    "for w in list(rn['word']):\n",
    "    if w not in dic_random['aranea']:\n",
    "        dic_random['aranea'][w] = model.most_similar(w,topn=num)\n",
    "#rnc\n",
    "mpath = os.path.join(WDIR, 'ruscorpora_upos_skipgram_300_5_2018.vec')\n",
    "model = open_model(mpath)\n",
    "for w in list(fr['word']):\n",
    "    if w not in dic_freq['rnc']:\n",
    "        try:\n",
    "            dic_freq['rnc'][w] = model.most_similar(w,topn=num)\n",
    "        except:\n",
    "            dic_freq['rnc'][w] = []\n",
    "for w in list(sv['word']):\n",
    "    if w not in dic_svodesh['rnc']:\n",
    "        try:\n",
    "            dic_svodesh['rnc'][w] = model.most_similar(w,topn=num)\n",
    "        except:\n",
    "            dic_svodesh['rnc'][w] = []\n",
    "for w in list(rn['word']):\n",
    "    if w not in dic_random['rnc']:\n",
    "        try:\n",
    "            dic_random['rnc'][w] = model.most_similar(w,topn=num)\n",
    "        except:\n",
    "            dic_random['rnc'][w] = []\n",
    "#taiga\n",
    "mpath = os.path.join(WDIR, 'tayga_1_2.vec')\n",
    "model = open_model(mpath)\n",
    "for w in list(fr['word']):\n",
    "    if w not in dic_freq['taiga']:\n",
    "        try:\n",
    "            dic_freq['taiga'][w] = model.most_similar(w,topn=num)\n",
    "        except:\n",
    "            dic_freq['taiga'][w] = []\n",
    "for w in list(sv['word']):\n",
    "    if w not in dic_svodesh['taiga']:\n",
    "        try:\n",
    "            dic_svodesh['taiga'][w] = model.most_similar(w,topn=num)\n",
    "        except:\n",
    "            dic_svodesh['taiga'][w] = []\n",
    "for w in list(rn['word']):\n",
    "    if w not in dic_random['taiga']:\n",
    "        try:\n",
    "            dic_random['taiga'][w] = model.most_similar(w,topn=num)\n",
    "        except:\n",
    "            print(w)\n",
    "            dic_random['taiga'][w] = []\n",
    "rows_list = []\n",
    "for word in list(sv['word']):\n",
    "        dict1 = {}\n",
    "        dict1['word'] = word\n",
    "        dict1['svodesh/random'] = 'svodesh'\n",
    "        dict1['% intersection'] = count_set(get_words(dic_svodesh['taiga'][word]),get_words(dic_svodesh['aranea'][word]),get_words(dic_svodesh['rnc'][word]))\n",
    "        rows_list.append(dict1)\n",
    "for word in list(rn['word']):\n",
    "        dict1 = {}\n",
    "        dict1['word'] = word\n",
    "        dict1['svodesh/random'] = 'random'\n",
    "        dict1['% intersection'] = count_set(get_words(dic_random['taiga'][word]),get_words(dic_random['aranea'][word]),get_words(dic_random['rnc'][word]))\n",
    "        rows_list.append(dict1)\n",
    "for word in list(fr['word']):\n",
    "        dict1 = {}\n",
    "        dict1['word'] = word\n",
    "        dict1['svodesh/random'] = 'freq'\n",
    "        dict1['% intersection'] = count_set(get_words(dic_freq['taiga'][word]),get_words(dic_freq['aranea'][word]),get_words(dic_freq['rnc'][word]))\n",
    "        rows_list.append(dict1)\n",
    "df100 = pd.DataFrame(rows_list) \n",
    "df100.head()"
   ]
  },
  {
   "cell_type": "code",
   "execution_count": 78,
   "metadata": {
    "collapsed": true
   },
   "outputs": [],
   "source": [
    "#frequent\n",
    "fr  = df100[df100['svodesh/random']=='freq']\n",
    "#svodesh\n",
    "sv = df100[df100['svodesh/random']=='svodesh']\n",
    "#random\n",
    "rn = df100[df100['svodesh/random']=='random']"
   ]
  },
  {
   "cell_type": "code",
   "execution_count": 80,
   "metadata": {},
   "outputs": [
    {
     "data": {
      "text/plain": [
       "MannwhitneyuResult(statistic=20997.0, pvalue=0.9999999999560165)"
      ]
     },
     "execution_count": 80,
     "metadata": {},
     "output_type": "execute_result"
    }
   ],
   "source": [
    "mannwhitneyu(sorted(sv['% intersection']), sorted(rn['% intersection']), use_continuity=True, alternative='less')"
   ]
  },
  {
   "cell_type": "code",
   "execution_count": 81,
   "metadata": {},
   "outputs": [
    {
     "data": {
      "text/plain": [
       "MannwhitneyuResult(statistic=16564.5, pvalue=0.9573241345613146)"
      ]
     },
     "execution_count": 81,
     "metadata": {},
     "output_type": "execute_result"
    }
   ],
   "source": [
    "mannwhitneyu(sorted(sv['% intersection']), sorted(fr['% intersection']), use_continuity=True, alternative='less')"
   ]
  },
  {
   "cell_type": "code",
   "execution_count": 82,
   "metadata": {},
   "outputs": [
    {
     "data": {
      "text/plain": [
       "MannwhitneyuResult(statistic=19967.5, pvalue=0.9999999626192643)"
      ]
     },
     "execution_count": 82,
     "metadata": {},
     "output_type": "execute_result"
    }
   ],
   "source": [
    "mannwhitneyu(sorted(fr['% intersection']), sorted(rn['% intersection']), use_continuity=True, alternative='less')"
   ]
  },
  {
   "cell_type": "code",
   "execution_count": 79,
   "metadata": {
    "collapsed": true
   },
   "outputs": [],
   "source": [
    "df100.to_csv(path_or_buf='/media/mi_air/0F0B7DDE62EEA81E/vector/closest_word_intersection_100.csv', sep='\\t')"
   ]
  },
  {
   "cell_type": "markdown",
   "metadata": {},
   "source": [
    "## 200 ближайших"
   ]
  },
  {
   "cell_type": "code",
   "execution_count": 65,
   "metadata": {},
   "outputs": [
    {
     "name": "stderr",
     "output_type": "stream",
     "text": [
      "/home/mi_air/.local/lib/python3.5/site-packages/gensim/matutils.py:737: FutureWarning: Conversion of the second argument of issubdtype from `int` to `np.signedinteger` is deprecated. In future, it will be treated as `np.int64 == np.dtype(int).type`.\n",
      "  if np.issubdtype(vec.dtype, np.int):\n"
     ]
    },
    {
     "data": {
      "text/html": [
       "<div>\n",
       "<style scoped>\n",
       "    .dataframe tbody tr th:only-of-type {\n",
       "        vertical-align: middle;\n",
       "    }\n",
       "\n",
       "    .dataframe tbody tr th {\n",
       "        vertical-align: top;\n",
       "    }\n",
       "\n",
       "    .dataframe thead th {\n",
       "        text-align: right;\n",
       "    }\n",
       "</style>\n",
       "<table border=\"1\" class=\"dataframe\">\n",
       "  <thead>\n",
       "    <tr style=\"text-align: right;\">\n",
       "      <th></th>\n",
       "      <th>% intersection</th>\n",
       "      <th>svodesh/random</th>\n",
       "      <th>word</th>\n",
       "    </tr>\n",
       "  </thead>\n",
       "  <tbody>\n",
       "    <tr>\n",
       "      <th>0</th>\n",
       "      <td>0.095137</td>\n",
       "      <td>svodesh</td>\n",
       "      <td>несколько_ADV</td>\n",
       "    </tr>\n",
       "    <tr>\n",
       "      <th>1</th>\n",
       "      <td>0.031481</td>\n",
       "      <td>svodesh</td>\n",
       "      <td>немного_ADV</td>\n",
       "    </tr>\n",
       "    <tr>\n",
       "      <th>2</th>\n",
       "      <td>0.024715</td>\n",
       "      <td>svodesh</td>\n",
       "      <td>мало_ADV</td>\n",
       "    </tr>\n",
       "    <tr>\n",
       "      <th>3</th>\n",
       "      <td>0.070981</td>\n",
       "      <td>svodesh</td>\n",
       "      <td>четыре_NUM</td>\n",
       "    </tr>\n",
       "    <tr>\n",
       "      <th>4</th>\n",
       "      <td>0.071429</td>\n",
       "      <td>svodesh</td>\n",
       "      <td>пять_NUM</td>\n",
       "    </tr>\n",
       "  </tbody>\n",
       "</table>\n",
       "</div>"
      ],
      "text/plain": [
       "   % intersection svodesh/random           word\n",
       "0        0.095137        svodesh  несколько_ADV\n",
       "1        0.031481        svodesh    немного_ADV\n",
       "2        0.024715        svodesh       мало_ADV\n",
       "3        0.070981        svodesh     четыре_NUM\n",
       "4        0.071429        svodesh       пять_NUM"
      ]
     },
     "execution_count": 65,
     "metadata": {},
     "output_type": "execute_result"
    }
   ],
   "source": [
    "num = 200\n",
    "dic_svodesh = {'aranea':{},'taiga':{}, 'rnc':{}}\n",
    "dic_random = { 'aranea':{},'taiga':{}, 'rnc':{}}\n",
    "dic_freq = {'aranea':{},'taiga':{}, 'rnc':{}}\n",
    "\n",
    "#aranea\n",
    "WDIR = r'/media/mi_air/0F0B7DDE62EEA81E/vector'\n",
    "mname = r'araneum_upos_skipgram_300_2_2018.vec'\n",
    "mpath = os.path.join(WDIR, mname)\n",
    "model = open_model(mpath)\n",
    "\n",
    "for w in list(fr['word']):\n",
    "    if w not in dic_freq['aranea']:\n",
    "        dic_freq['aranea'][w] = model.most_similar(w,topn=num)\n",
    "for w in list(sv['word']):\n",
    "    if w not in dic_svodesh['aranea']:\n",
    "        dic_svodesh['aranea'][w] = model.most_similar(w,topn=num)\n",
    "for w in list(rn['word']):\n",
    "    if w not in dic_random['aranea']:\n",
    "        dic_random['aranea'][w] = model.most_similar(w,topn=num)\n",
    "#rnc\n",
    "mpath = os.path.join(WDIR, 'ruscorpora_upos_skipgram_300_5_2018.vec')\n",
    "model = open_model(mpath)\n",
    "for w in list(fr['word']):\n",
    "    if w not in dic_freq['rnc']:\n",
    "        try:\n",
    "            dic_freq['rnc'][w] = model.most_similar(w,topn=num)\n",
    "        except:\n",
    "            dic_freq['rnc'][w] = []\n",
    "for w in list(sv['word']):\n",
    "    if w not in dic_svodesh['rnc']:\n",
    "        try:\n",
    "            dic_svodesh['rnc'][w] = model.most_similar(w,topn=num)\n",
    "        except:\n",
    "            dic_svodesh['rnc'][w] = []\n",
    "for w in list(rn['word']):\n",
    "    if w not in dic_random['rnc']:\n",
    "        try:\n",
    "            dic_random['rnc'][w] = model.most_similar(w,topn=num)\n",
    "        except:\n",
    "            dic_random['rnc'][w] = []\n",
    "#taiga\n",
    "mpath = os.path.join(WDIR, 'tayga_1_2.vec')\n",
    "model = open_model(mpath)\n",
    "for w in list(fr['word']):\n",
    "    if w not in dic_freq['taiga']:\n",
    "        try:\n",
    "            dic_freq['taiga'][w] = model.most_similar(w,topn=num)\n",
    "        except:\n",
    "            dic_freq['taiga'][w] = []\n",
    "for w in list(sv['word']):\n",
    "    if w not in dic_svodesh['taiga']:\n",
    "        try:\n",
    "            dic_svodesh['taiga'][w] = model.most_similar(w,topn=num)\n",
    "        except:\n",
    "            dic_svodesh['taiga'][w] = []\n",
    "for w in list(rn['word']):\n",
    "    if w not in dic_random['taiga']:\n",
    "        try:\n",
    "            dic_random['taiga'][w] = model.most_similar(w,topn=num)\n",
    "        except:\n",
    "            print(w)\n",
    "            dic_random['taiga'][w] = []\n",
    "rows_list = []\n",
    "for word in list(sv['word']):\n",
    "        dict1 = {}\n",
    "        dict1['word'] = word\n",
    "        dict1['svodesh/random'] = 'svodesh'\n",
    "        dict1['% intersection'] = count_set(get_words(dic_svodesh['taiga'][word]),get_words(dic_svodesh['aranea'][word]),get_words(dic_svodesh['rnc'][word]))\n",
    "        rows_list.append(dict1)\n",
    "for word in list(rn['word']):\n",
    "        dict1 = {}\n",
    "        dict1['word'] = word\n",
    "        dict1['svodesh/random'] = 'random'\n",
    "        dict1['% intersection'] = count_set(get_words(dic_random['taiga'][word]),get_words(dic_random['aranea'][word]),get_words(dic_random['rnc'][word]))\n",
    "        rows_list.append(dict1)\n",
    "for word in list(fr['word']):\n",
    "        dict1 = {}\n",
    "        dict1['word'] = word\n",
    "        dict1['svodesh/random'] = 'freq'\n",
    "        dict1['% intersection'] = count_set(get_words(dic_freq['taiga'][word]),get_words(dic_freq['aranea'][word]),get_words(dic_freq['rnc'][word]))\n",
    "        rows_list.append(dict1)\n",
    "df200 = pd.DataFrame(rows_list) \n",
    "df200.head()"
   ]
  },
  {
   "cell_type": "code",
   "execution_count": 66,
   "metadata": {
    "collapsed": true
   },
   "outputs": [],
   "source": [
    "#frequent\n",
    "fr  = df200[df200['svodesh/random']=='freq']\n",
    "#svodesh\n",
    "sv = df200[df200['svodesh/random']=='svodesh']\n",
    "#random\n",
    "rn = df200[df200['svodesh/random']=='random']"
   ]
  },
  {
   "cell_type": "code",
   "execution_count": 67,
   "metadata": {},
   "outputs": [
    {
     "data": {
      "text/plain": [
       "MannwhitneyuResult(statistic=19903.0, pvalue=0.9999999449646517)"
      ]
     },
     "execution_count": 67,
     "metadata": {},
     "output_type": "execute_result"
    }
   ],
   "source": [
    "mannwhitneyu(sorted(sv['% intersection']), sorted(rn['% intersection']), use_continuity=True, alternative='less')"
   ]
  },
  {
   "cell_type": "code",
   "execution_count": 68,
   "metadata": {},
   "outputs": [
    {
     "data": {
      "text/plain": [
       "MannwhitneyuResult(statistic=16765.5, pvalue=0.9735965927775658)"
      ]
     },
     "execution_count": 68,
     "metadata": {},
     "output_type": "execute_result"
    }
   ],
   "source": [
    "mannwhitneyu(sorted(sv['% intersection']), sorted(fr['% intersection']), use_continuity=True, alternative='less')"
   ]
  },
  {
   "cell_type": "code",
   "execution_count": 69,
   "metadata": {},
   "outputs": [
    {
     "data": {
      "text/plain": [
       "MannwhitneyuResult(statistic=18608.0, pvalue=0.9999551951452422)"
      ]
     },
     "execution_count": 69,
     "metadata": {},
     "output_type": "execute_result"
    }
   ],
   "source": [
    "mannwhitneyu(sorted(fr['% intersection']), sorted(rn['% intersection']), use_continuity=True, alternative='less')"
   ]
  },
  {
   "cell_type": "code",
   "execution_count": 70,
   "metadata": {
    "collapsed": true
   },
   "outputs": [],
   "source": [
    "df200.to_csv(path_or_buf='/media/mi_air/0F0B7DDE62EEA81E/vector/closest_word_intersection_200.csv', sep='\\t')"
   ]
  },
  {
   "cell_type": "markdown",
   "metadata": {},
   "source": [
    "## 300 ближайших"
   ]
  },
  {
   "cell_type": "code",
   "execution_count": 71,
   "metadata": {},
   "outputs": [
    {
     "name": "stderr",
     "output_type": "stream",
     "text": [
      "/home/mi_air/.local/lib/python3.5/site-packages/gensim/matutils.py:737: FutureWarning: Conversion of the second argument of issubdtype from `int` to `np.signedinteger` is deprecated. In future, it will be treated as `np.int64 == np.dtype(int).type`.\n",
      "  if np.issubdtype(vec.dtype, np.int):\n"
     ]
    },
    {
     "data": {
      "text/html": [
       "<div>\n",
       "<style scoped>\n",
       "    .dataframe tbody tr th:only-of-type {\n",
       "        vertical-align: middle;\n",
       "    }\n",
       "\n",
       "    .dataframe tbody tr th {\n",
       "        vertical-align: top;\n",
       "    }\n",
       "\n",
       "    .dataframe thead th {\n",
       "        text-align: right;\n",
       "    }\n",
       "</style>\n",
       "<table border=\"1\" class=\"dataframe\">\n",
       "  <thead>\n",
       "    <tr style=\"text-align: right;\">\n",
       "      <th></th>\n",
       "      <th>% intersection</th>\n",
       "      <th>svodesh/random</th>\n",
       "      <th>word</th>\n",
       "    </tr>\n",
       "  </thead>\n",
       "  <tbody>\n",
       "    <tr>\n",
       "      <th>0</th>\n",
       "      <td>0.072022</td>\n",
       "      <td>svodesh</td>\n",
       "      <td>несколько_ADV</td>\n",
       "    </tr>\n",
       "    <tr>\n",
       "      <th>1</th>\n",
       "      <td>0.025393</td>\n",
       "      <td>svodesh</td>\n",
       "      <td>немного_ADV</td>\n",
       "    </tr>\n",
       "    <tr>\n",
       "      <th>2</th>\n",
       "      <td>0.022642</td>\n",
       "      <td>svodesh</td>\n",
       "      <td>мало_ADV</td>\n",
       "    </tr>\n",
       "    <tr>\n",
       "      <th>3</th>\n",
       "      <td>0.060976</td>\n",
       "      <td>svodesh</td>\n",
       "      <td>четыре_NUM</td>\n",
       "    </tr>\n",
       "    <tr>\n",
       "      <th>4</th>\n",
       "      <td>0.047043</td>\n",
       "      <td>svodesh</td>\n",
       "      <td>пять_NUM</td>\n",
       "    </tr>\n",
       "  </tbody>\n",
       "</table>\n",
       "</div>"
      ],
      "text/plain": [
       "   % intersection svodesh/random           word\n",
       "0        0.072022        svodesh  несколько_ADV\n",
       "1        0.025393        svodesh    немного_ADV\n",
       "2        0.022642        svodesh       мало_ADV\n",
       "3        0.060976        svodesh     четыре_NUM\n",
       "4        0.047043        svodesh       пять_NUM"
      ]
     },
     "execution_count": 71,
     "metadata": {},
     "output_type": "execute_result"
    }
   ],
   "source": [
    "num = 300\n",
    "dic_svodesh = {'aranea':{},'taiga':{}, 'rnc':{}}\n",
    "dic_random = { 'aranea':{},'taiga':{}, 'rnc':{}}\n",
    "dic_freq = {'aranea':{},'taiga':{}, 'rnc':{}}\n",
    "\n",
    "#aranea\n",
    "WDIR = r'/media/mi_air/0F0B7DDE62EEA81E/vector'\n",
    "mname = r'araneum_upos_skipgram_300_2_2018.vec'\n",
    "mpath = os.path.join(WDIR, mname)\n",
    "model = open_model(mpath)\n",
    "\n",
    "for w in list(fr['word']):\n",
    "    if w not in dic_freq['aranea']:\n",
    "        dic_freq['aranea'][w] = model.most_similar(w,topn=num)\n",
    "for w in list(sv['word']):\n",
    "    if w not in dic_svodesh['aranea']:\n",
    "        dic_svodesh['aranea'][w] = model.most_similar(w,topn=num)\n",
    "for w in list(rn['word']):\n",
    "    if w not in dic_random['aranea']:\n",
    "        dic_random['aranea'][w] = model.most_similar(w,topn=num)\n",
    "#rnc\n",
    "mpath = os.path.join(WDIR, 'ruscorpora_upos_skipgram_300_5_2018.vec')\n",
    "model = open_model(mpath)\n",
    "for w in list(fr['word']):\n",
    "    if w not in dic_freq['rnc']:\n",
    "        try:\n",
    "            dic_freq['rnc'][w] = model.most_similar(w,topn=num)\n",
    "        except:\n",
    "            dic_freq['rnc'][w] = []\n",
    "for w in list(sv['word']):\n",
    "    if w not in dic_svodesh['rnc']:\n",
    "        try:\n",
    "            dic_svodesh['rnc'][w] = model.most_similar(w,topn=num)\n",
    "        except:\n",
    "            dic_svodesh['rnc'][w] = []\n",
    "for w in list(rn['word']):\n",
    "    if w not in dic_random['rnc']:\n",
    "        try:\n",
    "            dic_random['rnc'][w] = model.most_similar(w,topn=num)\n",
    "        except:\n",
    "            dic_random['rnc'][w] = []\n",
    "#taiga\n",
    "mpath = os.path.join(WDIR, 'tayga_1_2.vec')\n",
    "model = open_model(mpath)\n",
    "for w in list(fr['word']):\n",
    "    if w not in dic_freq['taiga']:\n",
    "        try:\n",
    "            dic_freq['taiga'][w] = model.most_similar(w,topn=num)\n",
    "        except:\n",
    "            dic_freq['taiga'][w] = []\n",
    "for w in list(sv['word']):\n",
    "    if w not in dic_svodesh['taiga']:\n",
    "        try:\n",
    "            dic_svodesh['taiga'][w] = model.most_similar(w,topn=num)\n",
    "        except:\n",
    "            dic_svodesh['taiga'][w] = []\n",
    "for w in list(rn['word']):\n",
    "    if w not in dic_random['taiga']:\n",
    "        try:\n",
    "            dic_random['taiga'][w] = model.most_similar(w,topn=num)\n",
    "        except:\n",
    "            print(w)\n",
    "            dic_random['taiga'][w] = []\n",
    "rows_list = []\n",
    "for word in list(sv['word']):\n",
    "        dict1 = {}\n",
    "        dict1['word'] = word\n",
    "        dict1['svodesh/random'] = 'svodesh'\n",
    "        dict1['% intersection'] = count_set(get_words(dic_svodesh['taiga'][word]),get_words(dic_svodesh['aranea'][word]),get_words(dic_svodesh['rnc'][word]))\n",
    "        rows_list.append(dict1)\n",
    "for word in list(rn['word']):\n",
    "        dict1 = {}\n",
    "        dict1['word'] = word\n",
    "        dict1['svodesh/random'] = 'random'\n",
    "        dict1['% intersection'] = count_set(get_words(dic_random['taiga'][word]),get_words(dic_random['aranea'][word]),get_words(dic_random['rnc'][word]))\n",
    "        rows_list.append(dict1)\n",
    "for word in list(fr['word']):\n",
    "        dict1 = {}\n",
    "        dict1['word'] = word\n",
    "        dict1['svodesh/random'] = 'freq'\n",
    "        dict1['% intersection'] = count_set(get_words(dic_freq['taiga'][word]),get_words(dic_freq['aranea'][word]),get_words(dic_freq['rnc'][word]))\n",
    "        rows_list.append(dict1)\n",
    "df300 = pd.DataFrame(rows_list) \n",
    "df300.head()"
   ]
  },
  {
   "cell_type": "code",
   "execution_count": 72,
   "metadata": {
    "collapsed": true
   },
   "outputs": [],
   "source": [
    "#frequent\n",
    "fr  = df300[df300['svodesh/random']=='freq']\n",
    "#svodesh\n",
    "sv = df300[df300['svodesh/random']=='svodesh']\n",
    "#random\n",
    "rn = df300[df300['svodesh/random']=='random']"
   ]
  },
  {
   "cell_type": "code",
   "execution_count": 73,
   "metadata": {},
   "outputs": [
    {
     "data": {
      "text/plain": [
       "MannwhitneyuResult(statistic=19149.0, pvalue=0.9999965807706422)"
      ]
     },
     "execution_count": 73,
     "metadata": {},
     "output_type": "execute_result"
    }
   ],
   "source": [
    "mannwhitneyu(sorted(sv['% intersection']), sorted(rn['% intersection']), use_continuity=True, alternative='less')"
   ]
  },
  {
   "cell_type": "code",
   "execution_count": 74,
   "metadata": {},
   "outputs": [
    {
     "data": {
      "text/plain": [
       "MannwhitneyuResult(statistic=16924.0, pvalue=0.98243566817002)"
      ]
     },
     "execution_count": 74,
     "metadata": {},
     "output_type": "execute_result"
    }
   ],
   "source": [
    "mannwhitneyu(sorted(sv['% intersection']), sorted(fr['% intersection']), use_continuity=True, alternative='less')"
   ]
  },
  {
   "cell_type": "code",
   "execution_count": 75,
   "metadata": {},
   "outputs": [
    {
     "data": {
      "text/plain": [
       "MannwhitneyuResult(statistic=17673.0, pvalue=0.9982044460824449)"
      ]
     },
     "execution_count": 75,
     "metadata": {},
     "output_type": "execute_result"
    }
   ],
   "source": [
    "mannwhitneyu(sorted(fr['% intersection']), sorted(rn['% intersection']), use_continuity=True, alternative='less')"
   ]
  },
  {
   "cell_type": "code",
   "execution_count": 76,
   "metadata": {
    "collapsed": true
   },
   "outputs": [],
   "source": [
    "df300.to_csv(path_or_buf='/media/mi_air/0F0B7DDE62EEA81E/vector/closest_word_intersection_300.csv', sep='\\t')"
   ]
  },
  {
   "cell_type": "code",
   "execution_count": null,
   "metadata": {
    "collapsed": true
   },
   "outputs": [],
   "source": []
  }
 ],
 "metadata": {
  "anaconda-cloud": {},
  "kernelspec": {
   "display_name": "Python [default]",
   "language": "python",
   "name": "python3"
  },
  "language_info": {
   "codemirror_mode": {
    "name": "ipython",
    "version": 3
   },
   "file_extension": ".py",
   "mimetype": "text/x-python",
   "name": "python",
   "nbconvert_exporter": "python",
   "pygments_lexer": "ipython3",
   "version": "3.5.2"
  }
 },
 "nbformat": 4,
 "nbformat_minor": 2
}
