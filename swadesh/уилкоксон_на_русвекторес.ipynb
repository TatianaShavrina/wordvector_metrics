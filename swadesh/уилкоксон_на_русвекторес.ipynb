{
 "cells": [
  {
   "cell_type": "markdown",
   "metadata": {},
   "source": [
    "### Что проверяем:\n",
    "\n",
    "слова из списка сводеша сохраняют ранги своих соседей независимо от модели\n",
    "\n",
    "слова из списка сводеша демонстрируют большую устойчивость к набору соседей, чем случайные слова\n",
    "\n",
    "слова из списка сводеша сохраняют расстояния к частотным словам языка независимо от модели.\n"
   ]
  },
  {
   "cell_type": "code",
   "execution_count": 1,
   "metadata": {
    "collapsed": true
   },
   "outputs": [],
   "source": [
    "# coding: utf-8\n",
    "\n",
    "'''\n",
    "This module is formatting  user config with facts and entities,\n",
    "creating entity index and producing all variants for entity-match\n",
    "'''\n",
    "\n",
    "import pymorphy2\n",
    "import gensim\n",
    "\n",
    "import re\n",
    "import os\n",
    "from tqdm import tqdm\n",
    "from operator import itemgetter\n",
    "from scipy import stats\n",
    "import random\n",
    "from functools import lru_cache\n",
    "\n",
    "import pymorphy2\n",
    "morph = pymorphy2.MorphAnalyzer()"
   ]
  },
  {
   "cell_type": "code",
   "execution_count": 2,
   "metadata": {
    "collapsed": true
   },
   "outputs": [],
   "source": [
    "def open_model(m):\n",
    "    if m.endswith('.vec'):\n",
    "        model = gensim.models.KeyedVectors.load_word2vec_format(m, binary=False)\n",
    "    elif m.endswith('.bin'):\n",
    "        model = gensim.models.KeyedVectors.load_word2vec_format(m, binary=True)\n",
    "    else:\n",
    "        model = gensim.models.Word2Vec.load(m)\n",
    "    return model"
   ]
  },
  {
   "cell_type": "code",
   "execution_count": 3,
   "metadata": {
    "collapsed": true
   },
   "outputs": [],
   "source": [
    "@lru_cache(maxsize=50)\n",
    "def get_morph(token):\n",
    "    return morph.parse(token)"
   ]
  },
  {
   "cell_type": "code",
   "execution_count": 4,
   "metadata": {
    "collapsed": true
   },
   "outputs": [],
   "source": [
    "def get_tagged(word):\n",
    "    pos_dic = {\"NOUN\":[\"NOUN\",\"PROPN\"],    \"ADJF\":[\"ADJ\"],    \"ADJS\":[\"ADJ\"],    \"COMP\":[\"ADJ\",\"ADV\"],    \"VERB\":[\"VERB\"],    \"INFN\":[\"VERB\"],    \"PRTF\":[\"ADJ\"],    \"PRTS\":[\"VERB\"],    \"GRND\":[\"VERB\"],    \"NUMR\":[\"NUM\"],    \"ADVB\":[\"ADV\"],    \"NPRO\":[\"PRON\"],    \"PRED\":[\"ADV\"],    \"PREP\":[\"ADP\"],    \"CONJ\":[\"CCONJ\",\"SCONJ\"],    \"PRCL\":[\"PART\"],    \"INTJ\":[\"INTJ\"]}\n",
    "    p = get_morph(word)[0]\n",
    "    try:\n",
    "        pos = pos_dic[p.tag.POS]\n",
    "    except:\n",
    "        return []\n",
    "    lemma = p.normal_form\n",
    "    return [lemma+'_'+tag for tag in pos]"
   ]
  },
  {
   "cell_type": "code",
   "execution_count": 5,
   "metadata": {
    "collapsed": true
   },
   "outputs": [],
   "source": [
    "def check_in_model(word, model):\n",
    "    tag_list = get_tagged(word)\n",
    "    for tag in tag_list:\n",
    "        #тут реальное наличие\n",
    "        if tag in model:\n",
    "            return True\n",
    "    return False"
   ]
  },
  {
   "cell_type": "code",
   "execution_count": 6,
   "metadata": {
    "collapsed": true
   },
   "outputs": [],
   "source": [
    "def get_svodesh_range(word, model, svodesh):\n",
    "    syns = {}\n",
    "    tag = get_tagged(word)\n",
    "    \n",
    "    if tag and tag[0] in model:\n",
    "        syns = {s:model.similarity(tag[0],s) for s in svodesh}\n",
    "    return sorted(syns.items(), key=itemgetter(1), reverse=True)"
   ]
  },
  {
   "cell_type": "code",
   "execution_count": 37,
   "metadata": {
    "collapsed": true
   },
   "outputs": [],
   "source": [
    "WDIR = r'/media/mi_air/0F0B7DDE62EEA81E/vector'\n",
    "mname = r'araneum_upos_skipgram_300_2_2018.vec'\n",
    "mpath = os.path.join(WDIR, mname)"
   ]
  },
  {
   "cell_type": "code",
   "execution_count": 38,
   "metadata": {
    "collapsed": true
   },
   "outputs": [],
   "source": [
    "model = open_model(mpath)"
   ]
  },
  {
   "cell_type": "code",
   "execution_count": 13,
   "metadata": {},
   "outputs": [],
   "source": [
    "rus_svodesh_here = [get_tagged(i)[0] for i in rus_svodesh2 if get_tagged(i) and get_tagged(i)[0] in model.vocab ]"
   ]
  },
  {
   "cell_type": "code",
   "execution_count": 14,
   "metadata": {},
   "outputs": [
    {
     "data": {
      "text/plain": [
       "173"
      ]
     },
     "execution_count": 14,
     "metadata": {},
     "output_type": "execute_result"
    }
   ],
   "source": [
    "#присутствующие в модели слова\n",
    "len(rus_svodesh_here)"
   ]
  },
  {
   "cell_type": "code",
   "execution_count": 15,
   "metadata": {},
   "outputs": [
    {
     "name": "stderr",
     "output_type": "stream",
     "text": [
      "/home/mi_air/.local/lib/python3.5/site-packages/gensim/matutils.py:737: FutureWarning: Conversion of the second argument of issubdtype from `int` to `np.signedinteger` is deprecated. In future, it will be treated as `np.int64 == np.dtype(int).type`.\n",
      "  if np.issubdtype(vec.dtype, np.int):\n"
     ]
    },
    {
     "data": {
      "text/plain": [
       "[('мать_NOUN', 0.70530075),\n",
       " ('муж_NOUN', 0.66201216),\n",
       " ('жена_NOUN', 0.652348),\n",
       " ('отец_NOUN', 0.5994032),\n",
       " ('женщина_NOUN', 0.5448224),\n",
       " ('мужчина_NOUN', 0.4588908),\n",
       " ('спать_VERB', 0.4059834),\n",
       " ('думать_VERB', 0.39870393),\n",
       " ('костя_NOUN', 0.39396182),\n",
       " ('смеяться_VERB', 0.39379144),\n",
       " ('человек_NOUN', 0.37384513),\n",
       " ('знать_VERB', 0.35448375),\n",
       " ('собака_NOUN', 0.35296828),\n",
       " ('грудь_NOUN', 0.35241392),\n",
       " ('умирать_VERB', 0.3406965),\n",
       " ('сказать_VERB', 0.33579656),\n",
       " ('сидеть_VERB', 0.33464593),\n",
       " ('жить_VERB', 0.32761335),\n",
       " ('ночь_NOUN', 0.32260218),\n",
       " ('ходить_VERB', 0.322582),\n",
       " ('сосать_VERB', 0.31954628),\n",
       " ('маленький_ADJ', 0.31852502),\n",
       " ('пить_VERB', 0.3162434),\n",
       " ('бояться_VERB', 0.31456605),\n",
       " ('живот_NOUN', 0.30812234),\n",
       " ('петь_VERB', 0.30691093),\n",
       " ('шить_VERB', 0.3030794),\n",
       " ('сердце_NOUN', 0.29385206),\n",
       " ('слышать_VERB', 0.29216233),\n",
       " ('прийти_VERB', 0.290725),\n",
       " ('кусать_VERB', 0.28655526),\n",
       " ('бросать_VERB', 0.2831743),\n",
       " ('приходить_VERB', 0.27893466),\n",
       " ('день_NOUN', 0.2750632),\n",
       " ('мыть_VERB', 0.27199483),\n",
       " ('дышать_VERB', 0.26605165),\n",
       " ('нога_NOUN', 0.26549083),\n",
       " ('рука_NOUN', 0.25917467),\n",
       " ('колено_NOUN', 0.2546774),\n",
       " ('вытирать_VERB', 0.24604765),\n",
       " ('тянуть_VERB', 0.24346532),\n",
       " ('держать_VERB', 0.24039102),\n",
       " ('плохой_ADJ', 0.23926373),\n",
       " ('звезда_NOUN', 0.23489408),\n",
       " ('ноготь_NOUN', 0.22978589),\n",
       " ('видеть_VERB', 0.22958547),\n",
       " ('кожа_NOUN', 0.22849402),\n",
       " ('хороший_ADJ', 0.22348183),\n",
       " ('играть_VERB', 0.22269215),\n",
       " ('блевать_VERB', 0.22247931),\n",
       " ('змея_NOUN', 0.222098),\n",
       " ('ступня_NOUN', 0.22042692),\n",
       " ('нос_NOUN', 0.21783644),\n",
       " ('год_NOUN', 0.2163015),\n",
       " ('ухо_NOUN', 0.21590994),\n",
       " ('глаз_NOUN', 0.2149803),\n",
       " ('мало_ADV', 0.212938),\n",
       " ('стопа_NOUN', 0.21177822),\n",
       " ('воевать_VERB', 0.2106872),\n",
       " ('возле_ADV', 0.20958392),\n",
       " ('рыть_VERB', 0.20957845),\n",
       " ('копать_VERB', 0.20863527),\n",
       " ('трава_NOUN', 0.20844086),\n",
       " ('рвать_VERB', 0.20801243),\n",
       " ('немного_ADV', 0.20775282),\n",
       " ('убивать_VERB', 0.20671955),\n",
       " ('печень_NOUN', 0.20580518),\n",
       " ('плевать_VERB', 0.20433943),\n",
       " ('волос_NOUN', 0.20390731),\n",
       " ('царапать_VERB', 0.19963692),\n",
       " ('дорога_NOUN', 0.19869615),\n",
       " ('яйцо_NOUN', 0.19833025),\n",
       " ('цветок_NOUN', 0.19757362),\n",
       " ('плод_NOUN', 0.19338822),\n",
       " ('голова_NOUN', 0.19326599),\n",
       " ('зуб_NOUN', 0.191277),\n",
       " ('небо_NOUN', 0.19098179),\n",
       " ('сжимать_VERB', 0.18902734),\n",
       " ('охотиться_VERB', 0.18845223),\n",
       " ('шея_NOUN', 0.18591),\n",
       " ('идти_VERB', 0.18523315),\n",
       " ('мокрый_ADJ', 0.18343778),\n",
       " ('вошь_NOUN', 0.18319926),\n",
       " ('зверь_NOUN', 0.18224183),\n",
       " ('луна_NOUN', 0.18135534),\n",
       " ('рота_NOUN', 0.18125126),\n",
       " ('мясо_NOUN', 0.18034686),\n",
       " ('грязный_ADJ', 0.1798755),\n",
       " ('птица_NOUN', 0.17823687),\n",
       " ('лес_NOUN', 0.17638375),\n",
       " ('летать_VERB', 0.17574476),\n",
       " ('длинный_ADJ', 0.1750271),\n",
       " ('солнце_NOUN', 0.17308429),\n",
       " ('рыба_NOUN', 0.17169085),\n",
       " ('правильный_ADJ', 0.17056212),\n",
       " ('дождь_NOUN', 0.16976315),\n",
       " ('лист_NOUN', 0.16948172),\n",
       " ('гора_NOUN', 0.1673714),\n",
       " ('палка_NOUN', 0.16654624),\n",
       " ('гладкий_ADJ', 0.16527808),\n",
       " ('давать_VERB', 0.16502085),\n",
       " ('дерево_NOUN', 0.16491379),\n",
       " ('дуть_VERB', 0.1646082),\n",
       " ('плавать_VERB', 0.16446118),\n",
       " ('большой_ADJ', 0.15966009),\n",
       " ('дым_NOUN', 0.15793952),\n",
       " ('пухнуть_VERB', 0.15791646),\n",
       " ('старый_ADJ', 0.15750283),\n",
       " ('хвост_NOUN', 0.15487319),\n",
       " ('бороться_VERB', 0.15195957),\n",
       " ('близкий_ADJ', 0.15037127),\n",
       " ('короткий_ADJ', 0.14976376),\n",
       " ('крыло_NOUN', 0.14904591),\n",
       " ('ровный_ADJ', 0.14846374),\n",
       " ('толстый_ADJ', 0.14481503),\n",
       " ('жир_NOUN', 0.14452632),\n",
       " ('лежать_VERB', 0.14432126),\n",
       " ('снег_NOUN', 0.14422412),\n",
       " ('песок_NOUN', 0.14384198),\n",
       " ('кора_NOUN', 0.14317526),\n",
       " ('соль_NOUN', 0.14146583),\n",
       " ('толкать_VERB', 0.14138335),\n",
       " ('зола_NOUN', 0.14073494),\n",
       " ('рог_NOUN', 0.13927129),\n",
       " ('круглый_ADJ', 0.13836557),\n",
       " ('сухой_ADJ', 0.13751566),\n",
       " ('имя_NOUN', 0.13691293),\n",
       " ('огонь_NOUN', 0.13590574),\n",
       " ('давить_VERB', 0.1348155),\n",
       " ('считать_VERB', 0.13277633),\n",
       " ('тереть_VERB', 0.1326489),\n",
       " ('стоять_VERB', 0.12940419),\n",
       " ('кишка_NOUN', 0.12938139),\n",
       " ('корень_NOUN', 0.12825342),\n",
       " ('гореть_VERB', 0.1272116),\n",
       " ('река_NOUN', 0.12711287),\n",
       " ('белый_ADJ', 0.12661943),\n",
       " ('семя_NOUN', 0.12566988),\n",
       " ('земля_NOUN', 0.12484807),\n",
       " ('язык_NOUN', 0.12385305),\n",
       " ('ветер_NOUN', 0.12308097),\n",
       " ('падать_VERB', 0.12260604),\n",
       " ('пять_NUM', 0.12252242),\n",
       " ('вод_NOUN', 0.12150094),\n",
       " ('холодный_ADJ', 0.121479675),\n",
       " ('резать_VERB', 0.11968871),\n",
       " ('кровь_NOUN', 0.118017465),\n",
       " ('озеро_NOUN', 0.11648813),\n",
       " ('прямая_NOUN', 0.116352275),\n",
       " ('тупой_ADJ', 0.11563355),\n",
       " ('полный_ADJ', 0.11551952),\n",
       " ('острый_ADJ', 0.11500585),\n",
       " ('несколько_ADV', 0.1098172),\n",
       " ('левый_ADJ', 0.1088552),\n",
       " ('пыль_NOUN', 0.10430443),\n",
       " ('мор_NOUN', 0.10387669),\n",
       " ('камень_NOUN', 0.102988206),\n",
       " ('четыре_NUM', 0.09927564),\n",
       " ('пепел_NOUN', 0.09717744),\n",
       " ('красный_ADJ', 0.09421196),\n",
       " ('перо_NOUN', 0.0896611),\n",
       " ('червь_NOUN', 0.08313392),\n",
       " ('новый_ADJ', 0.08256253),\n",
       " ('спин_NOUN', 0.08170543),\n",
       " ('туман_NOUN', 0.07684144),\n",
       " ('течь_NOUN', 0.07313799),\n",
       " ('правый_NOUN', 0.068410374),\n",
       " ('гнилой_ADJ', 0.064147115),\n",
       " ('облако_NOUN', 0.057321627),\n",
       " ('тонкий_ADJ', 0.038046565),\n",
       " ('узкий_ADJ', 0.032010466),\n",
       " ('широкий_ADJ', 0.009013299)]"
      ]
     },
     "execution_count": 15,
     "metadata": {},
     "output_type": "execute_result"
    }
   ],
   "source": [
    "get_svodesh_range('мама', model, rus_svodesh_here)"
   ]
  },
  {
   "cell_type": "code",
   "execution_count": 21,
   "metadata": {
    "collapsed": true
   },
   "outputs": [],
   "source": [
    "#araneum\n",
    "rset1 = list(model.vocab)"
   ]
  },
  {
   "cell_type": "code",
   "execution_count": 18,
   "metadata": {
    "collapsed": true
   },
   "outputs": [],
   "source": [
    "#rnc\n",
    "rset2 = list(model.vocab)"
   ]
  },
  {
   "cell_type": "code",
   "execution_count": 23,
   "metadata": {
    "collapsed": true
   },
   "outputs": [],
   "source": [
    "#taiga\n",
    "rset3 = list(model.vocab)"
   ]
  },
  {
   "cell_type": "code",
   "execution_count": 31,
   "metadata": {},
   "outputs": [],
   "source": [
    "intersec_words = set.intersection(set(rset1),set(rset2),set(rset3))"
   ]
  },
  {
   "cell_type": "code",
   "execution_count": 33,
   "metadata": {},
   "outputs": [],
   "source": [
    "random_words = random.sample(intersec_words, 173)"
   ]
  },
  {
   "cell_type": "code",
   "execution_count": 34,
   "metadata": {},
   "outputs": [
    {
     "data": {
      "text/plain": [
       "['исполнительство_NOUN',\n",
       " 'анормальный_ADJ',\n",
       " 'обвешивать_VERB',\n",
       " 'втыкать_VERB',\n",
       " 'седакова_PROPN',\n",
       " 'обязательство_NOUN',\n",
       " 'вислоухий_ADJ',\n",
       " 'заместительница_NOUN',\n",
       " 'покреститься_VERB',\n",
       " 'альпеншток_NOUN',\n",
       " 'удешевление_NOUN',\n",
       " 'наводка_NOUN',\n",
       " 'шея_NOUN',\n",
       " 'крамола_NOUN',\n",
       " 'обновлять_VERB',\n",
       " 'сведение_NOUN',\n",
       " 'зашоренность_NOUN',\n",
       " 'кроватный_ADJ',\n",
       " 'молоканский_ADJ',\n",
       " 'эмалированный_ADJ',\n",
       " 'валерий::петрович_PROPN',\n",
       " 'барбитурат_NOUN',\n",
       " 'стробоскоп_NOUN',\n",
       " 'флуктуация_NOUN',\n",
       " 'плав_NOUN',\n",
       " 'козырной_ADJ',\n",
       " 'исцелитель_NOUN',\n",
       " 'азы_NOUN',\n",
       " 'шапокляк_NOUN',\n",
       " 'криволинейный_ADJ',\n",
       " 'пудовый_ADJ',\n",
       " 'самодовлеющий_ADJ',\n",
       " 'франкистский_ADJ',\n",
       " 'усадьб_NOUN',\n",
       " 'усаживать_VERB',\n",
       " 'ослепительно_ADV',\n",
       " 'наносить_VERB',\n",
       " 'заздравный_ADJ',\n",
       " 'присыхать_VERB',\n",
       " 'ямполь_PROPN',\n",
       " 'картеж_NOUN',\n",
       " 'мамкин_ADJ',\n",
       " 'чеканщик_NOUN',\n",
       " 'шмелев_PROPN',\n",
       " 'игольный_ADJ',\n",
       " 'впредь_ADV',\n",
       " 'расщепление_NOUN',\n",
       " 'тесать_VERB',\n",
       " 'быстроходный_ADJ',\n",
       " 'пагубно_ADV',\n",
       " 'отчет_NOUN',\n",
       " 'бритт_NOUN',\n",
       " 'вице-консул_NOUN',\n",
       " 'самоотравление_NOUN',\n",
       " 'поручительство_NOUN',\n",
       " 'ритмично_ADV',\n",
       " 'разговориться_VERB',\n",
       " 'бирманский_ADJ',\n",
       " 'раскрутка_NOUN',\n",
       " 'запечатлевать_VERB',\n",
       " 'канделябр_NOUN',\n",
       " 'беккет_NOUN',\n",
       " 'хорошенький_ADJ',\n",
       " 'венозный_ADJ',\n",
       " 'ломаться_VERB',\n",
       " 'пастырство_NOUN',\n",
       " 'байбак_NOUN',\n",
       " 'соотносительный_ADJ',\n",
       " 'доедать_VERB',\n",
       " 'косяк_NOUN',\n",
       " 'сеялка_NOUN',\n",
       " 'воздух_NOUN',\n",
       " 'фамильярный_ADJ',\n",
       " 'хмао_PROPN',\n",
       " 'потеря_NOUN',\n",
       " 'милостиво_ADV',\n",
       " 'озябнуть_VERB',\n",
       " 'неравномерный_ADJ',\n",
       " 'кардамон_NOUN',\n",
       " 'балтиец_NOUN',\n",
       " 'стероидный_ADJ',\n",
       " 'фиг_NOUN',\n",
       " 'сокрушать_VERB',\n",
       " 'метаморфоза_NOUN',\n",
       " 'объект_NOUN',\n",
       " 'опальный_ADJ',\n",
       " 'приглашение_NOUN',\n",
       " 'хромец_NOUN',\n",
       " 'обождать_VERB',\n",
       " 'нацизм_NOUN',\n",
       " 'тильзитский_ADJ',\n",
       " 'распаляться_VERB',\n",
       " 'юркнуть_VERB',\n",
       " 'движимость_NOUN',\n",
       " 'развертывание_NOUN',\n",
       " 'тюремщик_NOUN',\n",
       " 'перепродажа_NOUN',\n",
       " 'евгений::алексеевич_PROPN',\n",
       " 'упрочение_NOUN',\n",
       " 'излишек_NOUN',\n",
       " 'физиологичный_ADJ',\n",
       " 'киногруппа_NOUN',\n",
       " 'поплатиться_VERB',\n",
       " 'жалование_NOUN',\n",
       " 'нашкодить_VERB',\n",
       " 'анна::семеновна_PROPN',\n",
       " 'биосферный_ADJ',\n",
       " 'друза_NOUN',\n",
       " 'испортить_VERB',\n",
       " 'окрашивать_VERB',\n",
       " 'вексельный_ADJ',\n",
       " 'фельетонный_ADJ',\n",
       " 'масскультура_NOUN',\n",
       " 'поощрительный_ADJ',\n",
       " 'бледность_NOUN',\n",
       " 'позвонок_NOUN',\n",
       " 'фитотерапия_NOUN',\n",
       " 'гад_NOUN',\n",
       " 'говориться_VERB',\n",
       " 'горчаков_PROPN',\n",
       " 'бестолковость_NOUN',\n",
       " 'зрительно_ADV',\n",
       " 'центровой_ADJ',\n",
       " 'нейтрализовать_VERB',\n",
       " 'радио_NOUN',\n",
       " 'античастица_NOUN',\n",
       " 'меняться_VERB',\n",
       " 'подстрекательство_NOUN',\n",
       " 'отставать_VERB',\n",
       " 'коагуляция_NOUN',\n",
       " 'плойка_NOUN',\n",
       " 'охранница_NOUN',\n",
       " 'безалаберность_NOUN',\n",
       " 'соглашаться_VERB',\n",
       " 'доверяться_VERB',\n",
       " 'алевтина_PROPN',\n",
       " 'запутанность_NOUN',\n",
       " 'напаивать_VERB',\n",
       " 'кошелев_PROPN',\n",
       " 'кунг_NOUN',\n",
       " 'ломброзо_PROPN',\n",
       " 'вывешивание_NOUN',\n",
       " 'нетактичный_ADJ',\n",
       " 'скол_NOUN',\n",
       " 'авансировать_VERB',\n",
       " 'спросонья_ADV',\n",
       " 'геополитика_NOUN',\n",
       " 'просачивание_NOUN',\n",
       " 'деревце_NOUN',\n",
       " 'педераст_NOUN',\n",
       " 'беседка_NOUN',\n",
       " 'намереваться_VERB',\n",
       " 'приятельский_ADJ',\n",
       " 'виктор::павлович_PROPN',\n",
       " 'валериановый_ADJ',\n",
       " 'семидесятилетие_NOUN',\n",
       " 'турбулентность_NOUN',\n",
       " 'думка_NOUN',\n",
       " 'поумничать_VERB',\n",
       " 'починать_VERB',\n",
       " 'терракота_NOUN',\n",
       " 'вьюноша_NOUN',\n",
       " 'аналитический_ADJ',\n",
       " 'двухрядный_ADJ',\n",
       " 'стремление_NOUN',\n",
       " 'летательный_ADJ',\n",
       " 'претворяться_VERB',\n",
       " 'мюррей_PROPN',\n",
       " 'воскурять_VERB',\n",
       " 'мишень_NOUN',\n",
       " 'акб_PROPN',\n",
       " 'распечатка_NOUN',\n",
       " 'шевелев_PROPN']"
      ]
     },
     "execution_count": 34,
     "metadata": {},
     "output_type": "execute_result"
    }
   ],
   "source": [
    "random_words"
   ]
  },
  {
   "cell_type": "markdown",
   "metadata": {},
   "source": [
    "# эксперимент 1 - получаем 100 ближайших соседей по каждой модели для каждого слова\n",
    "\n",
    "по аранеа\n",
    "по новостям\n",
    "по нкря\n",
    "по вики\n",
    "\n",
    "затем для каждого слова считаем % пересечения соседей по моделям"
   ]
  },
  {
   "cell_type": "code",
   "execution_count": 39,
   "metadata": {
    "collapsed": true
   },
   "outputs": [],
   "source": [
    "dic_svodesh = {'news':{}, 'aranea':{},'taiga':{}, 'rnc':{}}\n",
    "dic_random = {'news':{}, 'aranea':{},'taiga':{}, 'rnc':{}}"
   ]
  },
  {
   "cell_type": "code",
   "execution_count": 40,
   "metadata": {},
   "outputs": [
    {
     "name": "stderr",
     "output_type": "stream",
     "text": [
      "/home/mi_air/.local/lib/python3.5/site-packages/gensim/matutils.py:737: FutureWarning: Conversion of the second argument of issubdtype from `int` to `np.signedinteger` is deprecated. In future, it will be treated as `np.int64 == np.dtype(int).type`.\n",
      "  if np.issubdtype(vec.dtype, np.int):\n"
     ]
    }
   ],
   "source": [
    "for w in rus_svodesh_here:\n",
    "    if w not in dic_svodesh['aranea']:\n",
    "        dic_svodesh['aranea'][w] = model.most_similar(w,topn=100)"
   ]
  },
  {
   "cell_type": "code",
   "execution_count": 41,
   "metadata": {},
   "outputs": [
    {
     "name": "stderr",
     "output_type": "stream",
     "text": [
      "/home/mi_air/.local/lib/python3.5/site-packages/gensim/matutils.py:737: FutureWarning: Conversion of the second argument of issubdtype from `int` to `np.signedinteger` is deprecated. In future, it will be treated as `np.int64 == np.dtype(int).type`.\n",
      "  if np.issubdtype(vec.dtype, np.int):\n"
     ]
    }
   ],
   "source": [
    "for w in random_words:\n",
    "    if w not in dic_random['aranea']:\n",
    "        dic_random['aranea'][w] = model.most_similar(w,topn=100)"
   ]
  },
  {
   "cell_type": "code",
   "execution_count": 42,
   "metadata": {
    "collapsed": true
   },
   "outputs": [],
   "source": [
    "#rnc\n",
    "mpath = os.path.join(WDIR, 'ruscorpora_upos_skipgram_300_5_2018.vec')\n",
    "model = open_model(mpath)"
   ]
  },
  {
   "cell_type": "code",
   "execution_count": 43,
   "metadata": {},
   "outputs": [
    {
     "name": "stderr",
     "output_type": "stream",
     "text": [
      "/home/mi_air/.local/lib/python3.5/site-packages/gensim/matutils.py:737: FutureWarning: Conversion of the second argument of issubdtype from `int` to `np.signedinteger` is deprecated. In future, it will be treated as `np.int64 == np.dtype(int).type`.\n",
      "  if np.issubdtype(vec.dtype, np.int):\n"
     ]
    }
   ],
   "source": [
    "for w in rus_svodesh_here:\n",
    "    if w not in dic_svodesh['rnc']:\n",
    "        try:\n",
    "            dic_svodesh['rnc'][w] = model.most_similar(w,topn=100)\n",
    "        except:\n",
    "            dic_svodesh['rnc'][w] = []"
   ]
  },
  {
   "cell_type": "code",
   "execution_count": 44,
   "metadata": {},
   "outputs": [
    {
     "name": "stderr",
     "output_type": "stream",
     "text": [
      "/home/mi_air/.local/lib/python3.5/site-packages/gensim/matutils.py:737: FutureWarning: Conversion of the second argument of issubdtype from `int` to `np.signedinteger` is deprecated. In future, it will be treated as `np.int64 == np.dtype(int).type`.\n",
      "  if np.issubdtype(vec.dtype, np.int):\n"
     ]
    }
   ],
   "source": [
    "for w in random_words:\n",
    "    if w not in dic_random['rnc']:\n",
    "        try:\n",
    "            dic_random['rnc'][w] = model.most_similar(w,topn=100)\n",
    "        except:\n",
    "            print(w)\n",
    "            dic_random['rnc'][w] = []"
   ]
  },
  {
   "cell_type": "code",
   "execution_count": 45,
   "metadata": {
    "collapsed": true
   },
   "outputs": [],
   "source": [
    "#taiga\n",
    "mpath = os.path.join(WDIR, 'tayga_1_2.vec')\n",
    "model = open_model(mpath)"
   ]
  },
  {
   "cell_type": "code",
   "execution_count": 46,
   "metadata": {},
   "outputs": [
    {
     "name": "stderr",
     "output_type": "stream",
     "text": [
      "/home/mi_air/.local/lib/python3.5/site-packages/gensim/matutils.py:737: FutureWarning: Conversion of the second argument of issubdtype from `int` to `np.signedinteger` is deprecated. In future, it will be treated as `np.int64 == np.dtype(int).type`.\n",
      "  if np.issubdtype(vec.dtype, np.int):\n"
     ]
    }
   ],
   "source": [
    "for w in rus_svodesh_here:\n",
    "    if w not in dic_svodesh['taiga']:\n",
    "        try:\n",
    "            dic_svodesh['taiga'][w] = model.most_similar(w,topn=100)\n",
    "        except:\n",
    "            dic_svodesh['taiga'][w] = []"
   ]
  },
  {
   "cell_type": "code",
   "execution_count": 47,
   "metadata": {},
   "outputs": [
    {
     "name": "stderr",
     "output_type": "stream",
     "text": [
      "/home/mi_air/.local/lib/python3.5/site-packages/gensim/matutils.py:737: FutureWarning: Conversion of the second argument of issubdtype from `int` to `np.signedinteger` is deprecated. In future, it will be treated as `np.int64 == np.dtype(int).type`.\n",
      "  if np.issubdtype(vec.dtype, np.int):\n"
     ]
    }
   ],
   "source": [
    "for w in random_words:\n",
    "    if w not in dic_random['taiga']:\n",
    "        try:\n",
    "            dic_random['taiga'][w] = model.most_similar(w,topn=100)\n",
    "        except:\n",
    "            print(w)\n",
    "            dic_random['taiga'][w] = []"
   ]
  },
  {
   "cell_type": "code",
   "execution_count": 48,
   "metadata": {
    "collapsed": true
   },
   "outputs": [],
   "source": [
    "import pandas as pd\n"
   ]
  },
  {
   "cell_type": "code",
   "execution_count": 49,
   "metadata": {
    "collapsed": true
   },
   "outputs": [],
   "source": [
    "def count_set(list1, list2, list3):\n",
    "    set1, set2, set3 = set(list1), set(list2), set(list3)\n",
    "    d = set.intersection(set1, set2, set3)\n",
    "    u = set(list(set1)+list(set2)+list(set3))\n",
    "    return len(d)/len(u)"
   ]
  },
  {
   "cell_type": "code",
   "execution_count": 50,
   "metadata": {
    "collapsed": true
   },
   "outputs": [],
   "source": [
    "def get_words(dic):\n",
    "    return [i[0] for i in dic]"
   ]
  },
  {
   "cell_type": "code",
   "execution_count": 52,
   "metadata": {},
   "outputs": [
    {
     "data": {
      "text/html": [
       "<div>\n",
       "<style scoped>\n",
       "    .dataframe tbody tr th:only-of-type {\n",
       "        vertical-align: middle;\n",
       "    }\n",
       "\n",
       "    .dataframe tbody tr th {\n",
       "        vertical-align: top;\n",
       "    }\n",
       "\n",
       "    .dataframe thead th {\n",
       "        text-align: right;\n",
       "    }\n",
       "</style>\n",
       "<table border=\"1\" class=\"dataframe\">\n",
       "  <thead>\n",
       "    <tr style=\"text-align: right;\">\n",
       "      <th></th>\n",
       "      <th>% intersection</th>\n",
       "      <th>svodesh/random</th>\n",
       "      <th>word</th>\n",
       "    </tr>\n",
       "  </thead>\n",
       "  <tbody>\n",
       "    <tr>\n",
       "      <th>0</th>\n",
       "      <td>0.139013</td>\n",
       "      <td>svodesh</td>\n",
       "      <td>несколько_ADV</td>\n",
       "    </tr>\n",
       "    <tr>\n",
       "      <th>1</th>\n",
       "      <td>0.047244</td>\n",
       "      <td>svodesh</td>\n",
       "      <td>немного_ADV</td>\n",
       "    </tr>\n",
       "    <tr>\n",
       "      <th>2</th>\n",
       "      <td>0.026923</td>\n",
       "      <td>svodesh</td>\n",
       "      <td>мало_ADV</td>\n",
       "    </tr>\n",
       "    <tr>\n",
       "      <th>3</th>\n",
       "      <td>0.100437</td>\n",
       "      <td>svodesh</td>\n",
       "      <td>четыре_NUM</td>\n",
       "    </tr>\n",
       "    <tr>\n",
       "      <th>4</th>\n",
       "      <td>0.143519</td>\n",
       "      <td>svodesh</td>\n",
       "      <td>пять_NUM</td>\n",
       "    </tr>\n",
       "  </tbody>\n",
       "</table>\n",
       "</div>"
      ],
      "text/plain": [
       "   % intersection svodesh/random           word\n",
       "0        0.139013        svodesh  несколько_ADV\n",
       "1        0.047244        svodesh    немного_ADV\n",
       "2        0.026923        svodesh       мало_ADV\n",
       "3        0.100437        svodesh     четыре_NUM\n",
       "4        0.143519        svodesh       пять_NUM"
      ]
     },
     "execution_count": 52,
     "metadata": {},
     "output_type": "execute_result"
    }
   ],
   "source": [
    "rows_list = []\n",
    "for word in rus_svodesh_here:\n",
    "        dict1 = {}\n",
    "        dict1['word'] = word\n",
    "        dict1['svodesh/random'] = 'svodesh'\n",
    "        dict1['% intersection'] = count_set(get_words(dic_svodesh['taiga'][word]),get_words(dic_svodesh['aranea'][word]),get_words(dic_svodesh['rnc'][word]))\n",
    "        rows_list.append(dict1)\n",
    "for word in random_words:\n",
    "        dict1 = {}\n",
    "        dict1['word'] = word\n",
    "        dict1['svodesh/random'] = 'random'\n",
    "        dict1['% intersection'] = count_set(get_words(dic_random['taiga'][word]),get_words(dic_random['aranea'][word]),get_words(dic_random['rnc'][word]))\n",
    "        rows_list.append(dict1)\n",
    "df = pd.DataFrame(rows_list) \n",
    "df.head()"
   ]
  },
  {
   "cell_type": "code",
   "execution_count": 56,
   "metadata": {},
   "outputs": [],
   "source": [
    "#svodesh\n",
    "sv = df[df['svodesh/random']=='svodesh']\n",
    "#random\n",
    "rn = df[df['svodesh/random']=='random']"
   ]
  },
  {
   "cell_type": "code",
   "execution_count": 57,
   "metadata": {
    "collapsed": true
   },
   "outputs": [],
   "source": [
    "#манн-уитни\n",
    "from scipy.stats import mannwhitneyu"
   ]
  },
  {
   "cell_type": "code",
   "execution_count": 60,
   "metadata": {},
   "outputs": [
    {
     "data": {
      "text/plain": [
       "MannwhitneyuResult(statistic=20997.0, pvalue=0.9999999999560165)"
      ]
     },
     "execution_count": 60,
     "metadata": {},
     "output_type": "execute_result"
    }
   ],
   "source": [
    "mannwhitneyu(sorted(sv['% intersection']), sorted(rn['% intersection']), use_continuity=True, alternative='less')"
   ]
  },
  {
   "cell_type": "code",
   "execution_count": null,
   "metadata": {
    "collapsed": true
   },
   "outputs": [],
   "source": [
    "#Получается, что нулевая гипотеза о том, что степень признака в выборках неравна (в первой меньше) неверна\n",
    "#принимается альтернативная гипотеза, что в случайной выборке слов степень признака меньше"
   ]
  },
  {
   "cell_type": "code",
   "execution_count": 68,
   "metadata": {
    "collapsed": true
   },
   "outputs": [],
   "source": [
    "df.to_csv(path_or_buf='/media/mi_air/0F0B7DDE62EEA81E/vector/closest_word_intersection.csv', sep='\\t')"
   ]
  },
  {
   "cell_type": "code",
   "execution_count": null,
   "metadata": {
    "collapsed": true
   },
   "outputs": [],
   "source": []
  },
  {
   "cell_type": "code",
   "execution_count": null,
   "metadata": {
    "collapsed": true
   },
   "outputs": [],
   "source": []
  },
  {
   "cell_type": "code",
   "execution_count": null,
   "metadata": {
    "collapsed": true
   },
   "outputs": [],
   "source": [
    "@lru_cache(maxsize=10)\n",
    "def get_n_closest(word, model, num=5):\n",
    "    syns = {}\n",
    "    pos_dic = {\"NOUN\":[\"NOUN\",\"PROPN\"],    \"ADJF\":[\"ADJ\"],    \"ADJS\":[\"ADJ\"],    \"COMP\":[\"ADJ\",\"ADV\"],    \"VERB\":[\"VERB\"],    \"INFN\":[\"VERB\"],    \"PRTF\":[\"ADJ\"],    \"PRTS\":[\"VERB\"],    \"GRND\":[\"VERB\"],    \"NUMR\":[\"NUM\"],    \"ADVB\":[\"ADV\"],    \"NPRO\":[\"PRON\"],    \"PRED\":[\"ADV\"],    \"PREP\":[\"ADP\"],    \"CONJ\":[\"CCONJ\",\"SCONJ\"],    \"PRCL\":[\"PART\"],    \"INTJ\":[\"INTJ\"]}\n",
    "    \n",
    "    p = get_morph(word)[0]\n",
    "    try:\n",
    "        pos = pos_dic[p.tag.POS]\n",
    "    except:\n",
    "        pass\n",
    "    lemma = p.normal_form\n",
    "    for tag in pos:\n",
    "        #тут реальное наличие\n",
    "        if lemma+'_'+tag in model:\n",
    "            syns[lemma+'_'+tag in model] = model[lemma+'_'+tag in model]#огр на число\n",
    "    return syns"
   ]
  },
  {
   "cell_type": "code",
   "execution_count": 11,
   "metadata": {
    "collapsed": true
   },
   "outputs": [],
   "source": [
    "rus_svodesh = rus_svodesh.split('\\n')\n",
    "rus_svodesh = [i.split('(')[0] for i in rus_svodesh]\n",
    "rus_svodesh = [i.strip() for i in rus_svodesh]"
   ]
  },
  {
   "cell_type": "code",
   "execution_count": 12,
   "metadata": {
    "collapsed": true
   },
   "outputs": [],
   "source": [
    "rus_svodesh = [i.split(', ') if ',' in i else i for i in rus_svodesh ]\n",
    "rus_svodesh2 = []\n",
    "for i in rus_svodesh:\n",
    "    if type(i)==list:\n",
    "        rus_svodesh2+=i\n",
    "    else:\n",
    "        rus_svodesh2.append(i)"
   ]
  },
  {
   "cell_type": "code",
   "execution_count": 25,
   "metadata": {},
   "outputs": [
    {
     "data": {
      "text/plain": [
       "228"
      ]
     },
     "execution_count": 25,
     "metadata": {},
     "output_type": "execute_result"
    }
   ],
   "source": [
    "len(rus_svodesh2)"
   ]
  },
  {
   "cell_type": "code",
   "execution_count": null,
   "metadata": {
    "collapsed": true
   },
   "outputs": [],
   "source": []
  },
  {
   "cell_type": "code",
   "execution_count": null,
   "metadata": {
    "collapsed": true
   },
   "outputs": [],
   "source": []
  },
  {
   "cell_type": "code",
   "execution_count": null,
   "metadata": {
    "collapsed": true
   },
   "outputs": [],
   "source": []
  },
  {
   "cell_type": "code",
   "execution_count": 10,
   "metadata": {
    "collapsed": true
   },
   "outputs": [],
   "source": [
    "rus_svodesh = '''я\n",
    "    ты\n",
    "    он, она, оно\n",
    "    мы\n",
    "    вы (мн. число)\n",
    "    они\n",
    "    этот, эта, это (близкий предмет)\n",
    "    тот, та, то (удалённый предмет)\n",
    "    здесь, тут (близко)\n",
    "    там (далеко)\n",
    "    кто (об одушевлённых субъектах)\n",
    "    что (о неодушевлённых субъектах)\n",
    "    где\n",
    "    когда\n",
    "    как\n",
    "    не (отрицательная частица)\n",
    "    всё (на свете); также допускается «все (люди)» (all)\n",
    "    много (большое количество)\n",
    "    несколько, немного (среднее количество) (some)\n",
    "    мало (малое количество)\n",
    "    другой (человек), другие (люди)\n",
    "    один\n",
    "    два\n",
    "    три\n",
    "    четыре\n",
    "    пять\n",
    "    большой (дом, предмет)\n",
    "    длинный (предмет)\n",
    "    широкий\n",
    "    толстый (предмет)\n",
    "    тяжёлый\n",
    "    маленький\n",
    "    короткий\n",
    "    узкий\n",
    "    тонкий (предмет)\n",
    "    женщина\n",
    "    мужчина\n",
    "    человек\n",
    "    ребёнок\n",
    "    жена\n",
    "    муж\n",
    "    мать\n",
    "    отец\n",
    "    зверь (дикое животное)\n",
    "    рыба\n",
    "    птица\n",
    "    собака\n",
    "    вошь\n",
    "    змея\n",
    "    червь (дождевой червяк)\n",
    "    дерево\n",
    "    лес\n",
    "    палка («ударил палкой»)\n",
    "    плод (фрукт)\n",
    "    семя (растения)\n",
    "    лист (дерева)\n",
    "    корень (растения)\n",
    "    кора (дерева)\n",
    "    цветок\n",
    "    трава\n",
    "    верёвка\n",
    "    кожа\n",
    "    мясо\n",
    "    кровь\n",
    "    кость\n",
    "    жир (животный)\n",
    "    яйцо\n",
    "    рог\n",
    "    хвост\n",
    "    перо (птицы)\n",
    "    волос(ы)\n",
    "    голова\n",
    "    ухо\n",
    "    глаз\n",
    "    нос\n",
    "    рот\n",
    "    зуб\n",
    "    язык\n",
    "    ноготь\n",
    "    стопа, ступня\n",
    "    нога (от стопы до бедра)\n",
    "    колено\n",
    "    рука (кисть)\n",
    "    крыло\n",
    "    живот (от пупка до промежности)\n",
    "    кишки (внутренности)\n",
    "    шея\n",
    "    спина\n",
    "    грудь (часть туловища)\n",
    "    сердце\n",
    "    печень\n",
    "    пить (воду)\n",
    "    есть (кушать)\n",
    "    кусать (зубами); грызть\n",
    "    сосать\n",
    "    плевать\n",
    "    рвать, блевать\n",
    "    дуть (о ветре); отдельно допустимо также «дуть на свечу»\n",
    "    дышать\n",
    "    смеяться\n",
    "    видеть\n",
    "    слышать\n",
    "    знать\n",
    "    думать\n",
    "    чувствовать запах; отдельно допустимо также «нюхать ноздрями» (smell)\n",
    "    бояться (опасности)\n",
    "    спать\n",
    "    жить\n",
    "    умирать\n",
    "    убивать\n",
    "    бороться, воевать (с врагом) (fight)\n",
    "    охотиться (в лесу)\n",
    "    ударить (однократно рукой)\n",
    "    резать (предмет ножом)\n",
    "    (раз)рубить (бревно топором) (split)\n",
    "    воткнуть, вонзить (нож) (stab)\n",
    "    царапать\n",
    "    копать, рыть (яму)\n",
    "    плавать («умеет плавать»)\n",
    "    летать\n",
    "    ходить, идти (шагом)\n",
    "    приходить, прийти\n",
    "    лежать (человек на земле)\n",
    "    сидеть\n",
    "    стоять\n",
    "    повернуть («идя по дороге, повернуть направо») (turn)\n",
    "    падать (вертикально вниз)\n",
    "    давать\n",
    "    держать (рукой)\n",
    "    сжимать, давить (рукой с силой)\n",
    "    тереть (многократно)\n",
    "    мыть (руки)\n",
    "    вытирать (пыль)\n",
    "    тянуть (на себя)\n",
    "    толкать (вперёд, от себя)\n",
    "    бросать (камень)\n",
    "    привязать; связать (верёвкой)\n",
    "    шить (рубашку)\n",
    "    считать (числа)\n",
    "    сказать («он что-то сказал»)\n",
    "    петь (песню)\n",
    "    играть («дети играют»)\n",
    "    плавать («дерево плавает, не тонет»)\n",
    "    течь («река течёт»)\n",
    "    замёрзнуть («вода замёрзла»)\n",
    "    пухнуть («нога распухла»)\n",
    "    солнце\n",
    "    луна (полная)\n",
    "    звезда\n",
    "    вода\n",
    "    дождь (средней силы)\n",
    "    река (крупная или средняя)\n",
    "    озеро\n",
    "    море\n",
    "    соль\n",
    "    камень («бросил камень»)\n",
    "    песок\n",
    "    пыль\n",
    "    земля (грунт)\n",
    "    облако\n",
    "    туман (достаточно густой)\n",
    "    небо\n",
    "    ветер\n",
    "    снег\n",
    "    лёд\n",
    "    дым\n",
    "    огонь\n",
    "    зола, пепел (от костра)\n",
    "    гореть («огонь горит»)\n",
    "    дорога (грунтовая)\n",
    "    гора (достаточно высокая)\n",
    "    красный\n",
    "    зелёный\n",
    "    жёлтый\n",
    "    белый\n",
    "    чёрный\n",
    "    ночь\n",
    "    день\n",
    "    год\n",
    "    тёплый (о погоде)\n",
    "    холодный (о погоде)\n",
    "    полный (стакан)\n",
    "    новый\n",
    "    старый (предмет)\n",
    "    хороший (качественный)\n",
    "    плохой (некачественный)\n",
    "    гнилой\n",
    "    грязный (возможно, ребёнок)\n",
    "    прямой (линия, дорога)\n",
    "    круглый\n",
    "    острый (нож)\n",
    "    тупой (нож)\n",
    "    гладкий, ровный (на ощупь)\n",
    "    мокрый\n",
    "    сухой\n",
    "    правильный (верный)\n",
    "    близкий («живёт близко»)\n",
    "    далёкий («живёт далеко»)\n",
    "    правый\n",
    "    левый\n",
    "    при, у, возле\n",
    "    в («в доме»)\n",
    "    с, со (вместе с кем-то)\n",
    "    и\n",
    "    если\n",
    "    потому что\n",
    "    имя (человека)'''"
   ]
  },
  {
   "cell_type": "code",
   "execution_count": null,
   "metadata": {
    "collapsed": true
   },
   "outputs": [],
   "source": []
  }
 ],
 "metadata": {
  "anaconda-cloud": {},
  "kernelspec": {
   "display_name": "Python [default]",
   "language": "python",
   "name": "python3"
  },
  "language_info": {
   "codemirror_mode": {
    "name": "ipython",
    "version": 3
   },
   "file_extension": ".py",
   "mimetype": "text/x-python",
   "name": "python",
   "nbconvert_exporter": "python",
   "pygments_lexer": "ipython3",
   "version": "3.5.2"
  }
 },
 "nbformat": 4,
 "nbformat_minor": 2
}
