{
 "cells": [
  {
   "cell_type": "markdown",
   "metadata": {},
   "source": [
    "### Что проверяем:\n",
    "\n",
    "слова из списка сводеша сохраняют ранги своих соседей независимо от модели\n",
    "\n",
    "слова из списка сводеша демонстрируют большую устойчивость к набору соседей, чем случайные слова\n",
    "\n",
    "слова из списка сводеша сохраняют расстояния к частотным словам языка независимо от модели.\n"
   ]
  },
  {
   "cell_type": "code",
   "execution_count": 2,
   "metadata": {
    "collapsed": true
   },
   "outputs": [],
   "source": [
    "# coding: utf-8\n",
    "\n",
    "'''\n",
    "This module is formatting  user config with facts and entities,\n",
    "creating entity index and producing all variants for entity-match\n",
    "'''\n",
    "\n",
    "import gensim\n",
    "\n",
    "import re\n",
    "import os\n",
    "from tqdm import tqdm\n",
    "from operator import itemgetter\n",
    "from scipy import stats\n",
    "import random\n",
    "from functools import lru_cache\n",
    "import zipfile\n",
    "from ufal.udpipe import Model, Pipeline"
   ]
  },
  {
   "cell_type": "code",
   "execution_count": 73,
   "metadata": {
    "collapsed": true
   },
   "outputs": [],
   "source": [
    "WDIR = r'/media/mi_air/0F0B7DDE62EEA81E/vector/'\n",
    "modelfile = WDIR+r'english-ud-2.0-170801.udpipe'\n",
    "modelm = Model.load(modelfile)\n",
    "process_pipeline = Pipeline(modelm, 'tokenize', Pipeline.DEFAULT, Pipeline.DEFAULT, 'conllu')"
   ]
  },
  {
   "cell_type": "code",
   "execution_count": 74,
   "metadata": {
    "collapsed": true
   },
   "outputs": [],
   "source": [
    "def tag_ud(text):\n",
    "    for line in text:\n",
    "        # line = unify_sym(line.strip()) # здесь могла бы быть ваша функция очистки текста\n",
    "        output = process_pipeline.process(text)\n",
    "        output = output.split('\\n')[4]\n",
    "    return output.split('\\t')[1]+'_'+output.split('\\t')[3]\n"
   ]
  },
  {
   "cell_type": "code",
   "execution_count": 75,
   "metadata": {},
   "outputs": [
    {
     "data": {
      "text/plain": [
       "'mother_NOUN'"
      ]
     },
     "execution_count": 75,
     "metadata": {},
     "output_type": "execute_result"
    }
   ],
   "source": [
    "tag_ud('mother')"
   ]
  },
  {
   "cell_type": "code",
   "execution_count": 7,
   "metadata": {
    "collapsed": true
   },
   "outputs": [],
   "source": [
    "def open_model(m):\n",
    "    try:\n",
    "        if m.endswith('.vec'):\n",
    "            model = gensim.models.KeyedVectors.load_word2vec_format(m, binary=False)\n",
    "        elif m.endswith('.bin'):\n",
    "            model = gensim.models.KeyedVectors.load_word2vec_format(m, binary=True)\n",
    "\n",
    "        else:\n",
    "            model = gensim.models.KeyedVectors.load_word2vec_format(m, binary=False, unicode_errors='replace')\n",
    "    except:\n",
    "        model = gensim.models.KeyedVectors.load_word2vec_format(m, binary=False, unicode_errors='replace')\n",
    "    return model"
   ]
  },
  {
   "cell_type": "code",
   "execution_count": 72,
   "metadata": {
    "collapsed": true
   },
   "outputs": [],
   "source": [
    "freqwords = open('/media/mi_air/0F0B7DDE62EEA81E/vector/eng_lemma.num', 'r', encoding='utf8').read().split('\\n')[1:]\n",
    "freqwords = [w.split()[2] for w in freqwords if  len(w.split())>2]"
   ]
  },
  {
   "cell_type": "code",
   "execution_count": 76,
   "metadata": {
    "collapsed": true
   },
   "outputs": [],
   "source": [
    "#bnc\n",
    "with zipfile.ZipFile(WDIR + \"bnc_en.zip\", \"r\") as archive:\n",
    "    stream = archive.open(\"model.txt\")\n",
    "model = open_model(stream)"
   ]
  },
  {
   "cell_type": "code",
   "execution_count": 17,
   "metadata": {
    "collapsed": true
   },
   "outputs": [],
   "source": [
    "#bnc\n",
    "rset1 = list(model.vocab)"
   ]
  },
  {
   "cell_type": "code",
   "execution_count": 18,
   "metadata": {
    "collapsed": true
   },
   "outputs": [],
   "source": [
    "#gigaword\n",
    "with zipfile.ZipFile(WDIR + \"gigaword_en.zip\", \"r\") as archive:\n",
    "    stream = archive.open(\"model.txt\")\n",
    "model = open_model(stream)\n",
    "\n",
    "rset2 = list(model.vocab)"
   ]
  },
  {
   "cell_type": "code",
   "execution_count": 19,
   "metadata": {
    "collapsed": true
   },
   "outputs": [],
   "source": [
    "#wiki\n",
    "with zipfile.ZipFile(WDIR + \"wiki_en.zip\", \"r\") as archive:\n",
    "    stream = archive.open(\"model.txt\")\n",
    "model = open_model(stream)\n",
    "rset3 = list(model.vocab)"
   ]
  },
  {
   "cell_type": "code",
   "execution_count": 20,
   "metadata": {
    "collapsed": true
   },
   "outputs": [],
   "source": [
    "intersec_words = set.intersection(set(rset1),set(rset2),set(rset3))"
   ]
  },
  {
   "cell_type": "code",
   "execution_count": 42,
   "metadata": {
    "collapsed": true
   },
   "outputs": [],
   "source": [
    "len(intersec_words)\n",
    "f = open(WDIR+'intersec_words_english.txt', 'w', encoding='utf8')\n",
    "f.write('\\n'.join(intersec_words))\n",
    "f.close()"
   ]
  },
  {
   "cell_type": "code",
   "execution_count": 19,
   "metadata": {
    "collapsed": true
   },
   "outputs": [],
   "source": [
    "eng_svodesh = [tag_ud(w) for w in eng_svodesh if tag_ud(w) in intersec_words ]"
   ]
  },
  {
   "cell_type": "code",
   "execution_count": 20,
   "metadata": {},
   "outputs": [
    {
     "data": {
      "text/plain": [
       "160"
      ]
     },
     "execution_count": 20,
     "metadata": {},
     "output_type": "execute_result"
    }
   ],
   "source": [
    "len(eng_svodesh)"
   ]
  },
  {
   "cell_type": "code",
   "execution_count": 77,
   "metadata": {
    "collapsed": true
   },
   "outputs": [],
   "source": [
    "freq_words = random.sample([tag_ud(w) for w in freqwords[:2000] if tag_ud(w) in intersec_words], len(eng_svodesh))"
   ]
  },
  {
   "cell_type": "code",
   "execution_count": 21,
   "metadata": {
    "collapsed": true
   },
   "outputs": [],
   "source": [
    "random_words = random.sample(intersec_words, len(eng_svodesh))"
   ]
  },
  {
   "cell_type": "markdown",
   "metadata": {},
   "source": [
    "# эксперимент 1 - получаем 100 ближайших соседей по каждой модели для каждого слова\n",
    "\n",
    "по аранеа\n",
    "по новостям\n",
    "по нкря\n",
    "по вики\n",
    "\n",
    "затем для каждого слова считаем % пересечения соседей по моделям"
   ]
  },
  {
   "cell_type": "code",
   "execution_count": 80,
   "metadata": {
    "collapsed": true
   },
   "outputs": [],
   "source": [
    "dic_svodesh = { 'wiki':{},'gigaword':{}, 'bnc':{}}\n",
    "dic_random = {'wiki':{},'gigaword':{}, 'bnc':{}}\n",
    "dic_freq = {'wiki':{},'gigaword':{}, 'bnc':{}}"
   ]
  },
  {
   "cell_type": "code",
   "execution_count": 81,
   "metadata": {},
   "outputs": [
    {
     "name": "stderr",
     "output_type": "stream",
     "text": [
      "/home/mi_air/.local/lib/python3.5/site-packages/gensim/matutils.py:737: FutureWarning: Conversion of the second argument of issubdtype from `int` to `np.signedinteger` is deprecated. In future, it will be treated as `np.int64 == np.dtype(int).type`.\n",
      "  if np.issubdtype(vec.dtype, np.int):\n"
     ]
    }
   ],
   "source": [
    "for w in eng_svodesh:\n",
    "    if w not in dic_svodesh['bnc']:\n",
    "        dic_svodesh['bnc'][w] = model.most_similar(w,topn=100)"
   ]
  },
  {
   "cell_type": "code",
   "execution_count": 82,
   "metadata": {},
   "outputs": [
    {
     "name": "stderr",
     "output_type": "stream",
     "text": [
      "/home/mi_air/.local/lib/python3.5/site-packages/gensim/matutils.py:737: FutureWarning: Conversion of the second argument of issubdtype from `int` to `np.signedinteger` is deprecated. In future, it will be treated as `np.int64 == np.dtype(int).type`.\n",
      "  if np.issubdtype(vec.dtype, np.int):\n"
     ]
    }
   ],
   "source": [
    "for w in random_words:\n",
    "    if w not in dic_random['bnc']:\n",
    "        dic_random['bnc'][w] = model.most_similar(w,topn=100)"
   ]
  },
  {
   "cell_type": "code",
   "execution_count": 85,
   "metadata": {},
   "outputs": [
    {
     "name": "stderr",
     "output_type": "stream",
     "text": [
      "/home/mi_air/.local/lib/python3.5/site-packages/gensim/matutils.py:737: FutureWarning: Conversion of the second argument of issubdtype from `int` to `np.signedinteger` is deprecated. In future, it will be treated as `np.int64 == np.dtype(int).type`.\n",
      "  if np.issubdtype(vec.dtype, np.int):\n"
     ]
    }
   ],
   "source": [
    "for w in freq_words:\n",
    "    if w not in dic_freq['bnc']:\n",
    "        dic_freq['bnc'][w] = model.most_similar(w,topn=100)"
   ]
  },
  {
   "cell_type": "code",
   "execution_count": 86,
   "metadata": {
    "collapsed": true
   },
   "outputs": [],
   "source": [
    "#gigaword\n",
    "with zipfile.ZipFile(WDIR + \"gigaword_en.zip\", \"r\") as archive:\n",
    "    stream = archive.open(\"model.txt\")\n",
    "model = open_model(stream)"
   ]
  },
  {
   "cell_type": "code",
   "execution_count": 87,
   "metadata": {},
   "outputs": [
    {
     "name": "stderr",
     "output_type": "stream",
     "text": [
      "/home/mi_air/.local/lib/python3.5/site-packages/gensim/matutils.py:737: FutureWarning: Conversion of the second argument of issubdtype from `int` to `np.signedinteger` is deprecated. In future, it will be treated as `np.int64 == np.dtype(int).type`.\n",
      "  if np.issubdtype(vec.dtype, np.int):\n"
     ]
    }
   ],
   "source": [
    "for w in eng_svodesh:\n",
    "    if w not in dic_svodesh['gigaword']:\n",
    "        try:\n",
    "            dic_svodesh['gigaword'][w] = model.most_similar(w,topn=100)\n",
    "        except:\n",
    "            dic_svodesh['gigaword'][w] = []"
   ]
  },
  {
   "cell_type": "code",
   "execution_count": 88,
   "metadata": {},
   "outputs": [
    {
     "name": "stderr",
     "output_type": "stream",
     "text": [
      "/home/mi_air/.local/lib/python3.5/site-packages/gensim/matutils.py:737: FutureWarning: Conversion of the second argument of issubdtype from `int` to `np.signedinteger` is deprecated. In future, it will be treated as `np.int64 == np.dtype(int).type`.\n",
      "  if np.issubdtype(vec.dtype, np.int):\n"
     ]
    }
   ],
   "source": [
    "for w in random_words:\n",
    "    if w not in dic_random['gigaword']:\n",
    "        try:\n",
    "            dic_random['gigaword'][w] = model.most_similar(w,topn=100)\n",
    "        except:\n",
    "            dic_random['gigaword'][w] = []"
   ]
  },
  {
   "cell_type": "code",
   "execution_count": 89,
   "metadata": {},
   "outputs": [
    {
     "name": "stderr",
     "output_type": "stream",
     "text": [
      "/home/mi_air/.local/lib/python3.5/site-packages/gensim/matutils.py:737: FutureWarning: Conversion of the second argument of issubdtype from `int` to `np.signedinteger` is deprecated. In future, it will be treated as `np.int64 == np.dtype(int).type`.\n",
      "  if np.issubdtype(vec.dtype, np.int):\n"
     ]
    }
   ],
   "source": [
    "for w in freq_words:\n",
    "    if w not in dic_freq['gigaword']:\n",
    "        dic_freq['gigaword'][w] = model.most_similar(w,topn=100)"
   ]
  },
  {
   "cell_type": "code",
   "execution_count": 90,
   "metadata": {
    "collapsed": true
   },
   "outputs": [],
   "source": [
    "#wiki\n",
    "with zipfile.ZipFile(WDIR + \"wiki_en.zip\", \"r\") as archive:\n",
    "    stream = archive.open(\"model.txt\")\n",
    "model = open_model(stream)"
   ]
  },
  {
   "cell_type": "code",
   "execution_count": 91,
   "metadata": {},
   "outputs": [
    {
     "name": "stderr",
     "output_type": "stream",
     "text": [
      "/home/mi_air/.local/lib/python3.5/site-packages/gensim/matutils.py:737: FutureWarning: Conversion of the second argument of issubdtype from `int` to `np.signedinteger` is deprecated. In future, it will be treated as `np.int64 == np.dtype(int).type`.\n",
      "  if np.issubdtype(vec.dtype, np.int):\n"
     ]
    }
   ],
   "source": [
    "for w in eng_svodesh:\n",
    "    if w not in dic_svodesh['wiki']:\n",
    "        try:\n",
    "            dic_svodesh['wiki'][w] = model.most_similar(w,topn=100)\n",
    "        except:\n",
    "            dic_svodesh['wiki'][w] = []"
   ]
  },
  {
   "cell_type": "code",
   "execution_count": 92,
   "metadata": {},
   "outputs": [
    {
     "name": "stderr",
     "output_type": "stream",
     "text": [
      "/home/mi_air/.local/lib/python3.5/site-packages/gensim/matutils.py:737: FutureWarning: Conversion of the second argument of issubdtype from `int` to `np.signedinteger` is deprecated. In future, it will be treated as `np.int64 == np.dtype(int).type`.\n",
      "  if np.issubdtype(vec.dtype, np.int):\n"
     ]
    }
   ],
   "source": [
    "for w in random_words:\n",
    "    if w not in dic_random['wiki']:\n",
    "        try:\n",
    "            dic_random['wiki'][w] = model.most_similar(w,topn=100)\n",
    "        except:\n",
    "            print(w)\n",
    "            dic_random['wiki'][w] = []"
   ]
  },
  {
   "cell_type": "code",
   "execution_count": 93,
   "metadata": {},
   "outputs": [
    {
     "name": "stderr",
     "output_type": "stream",
     "text": [
      "/home/mi_air/.local/lib/python3.5/site-packages/gensim/matutils.py:737: FutureWarning: Conversion of the second argument of issubdtype from `int` to `np.signedinteger` is deprecated. In future, it will be treated as `np.int64 == np.dtype(int).type`.\n",
      "  if np.issubdtype(vec.dtype, np.int):\n"
     ]
    }
   ],
   "source": [
    "for w in freq_words:\n",
    "    if w not in dic_freq['wiki']:\n",
    "        dic_freq['wiki'][w] = model.most_similar(w,topn=100)"
   ]
  },
  {
   "cell_type": "code",
   "execution_count": 94,
   "metadata": {
    "collapsed": true
   },
   "outputs": [],
   "source": [
    "import pandas as pd\n"
   ]
  },
  {
   "cell_type": "code",
   "execution_count": 95,
   "metadata": {
    "collapsed": true
   },
   "outputs": [],
   "source": [
    "def count_set(list1, list2, list3):\n",
    "    set1, set2, set3 = set(list1), set(list2), set(list3)\n",
    "    d = set.intersection(set1, set2, set3)\n",
    "    u = set(list(set1)+list(set2)+list(set3))\n",
    "    return len(d)/len(u)"
   ]
  },
  {
   "cell_type": "code",
   "execution_count": 96,
   "metadata": {
    "collapsed": true
   },
   "outputs": [],
   "source": [
    "def get_words(dic):\n",
    "    return [i[0] for i in dic]"
   ]
  },
  {
   "cell_type": "code",
   "execution_count": 97,
   "metadata": {},
   "outputs": [
    {
     "data": {
      "text/html": [
       "<div>\n",
       "<style scoped>\n",
       "    .dataframe tbody tr th:only-of-type {\n",
       "        vertical-align: middle;\n",
       "    }\n",
       "\n",
       "    .dataframe tbody tr th {\n",
       "        vertical-align: top;\n",
       "    }\n",
       "\n",
       "    .dataframe thead th {\n",
       "        text-align: right;\n",
       "    }\n",
       "</style>\n",
       "<table border=\"1\" class=\"dataframe\">\n",
       "  <thead>\n",
       "    <tr style=\"text-align: right;\">\n",
       "      <th></th>\n",
       "      <th>% intersection</th>\n",
       "      <th>svodesh/random</th>\n",
       "      <th>word</th>\n",
       "    </tr>\n",
       "  </thead>\n",
       "  <tbody>\n",
       "    <tr>\n",
       "      <th>0</th>\n",
       "      <td>0.014652</td>\n",
       "      <td>svodesh</td>\n",
       "      <td>one_NUM</td>\n",
       "    </tr>\n",
       "    <tr>\n",
       "      <th>1</th>\n",
       "      <td>0.039216</td>\n",
       "      <td>svodesh</td>\n",
       "      <td>two_NUM</td>\n",
       "    </tr>\n",
       "    <tr>\n",
       "      <th>2</th>\n",
       "      <td>0.064257</td>\n",
       "      <td>svodesh</td>\n",
       "      <td>three_NUM</td>\n",
       "    </tr>\n",
       "    <tr>\n",
       "      <th>3</th>\n",
       "      <td>0.075000</td>\n",
       "      <td>svodesh</td>\n",
       "      <td>four_NUM</td>\n",
       "    </tr>\n",
       "    <tr>\n",
       "      <th>4</th>\n",
       "      <td>0.079167</td>\n",
       "      <td>svodesh</td>\n",
       "      <td>five_NUM</td>\n",
       "    </tr>\n",
       "  </tbody>\n",
       "</table>\n",
       "</div>"
      ],
      "text/plain": [
       "   % intersection svodesh/random       word\n",
       "0        0.014652        svodesh    one_NUM\n",
       "1        0.039216        svodesh    two_NUM\n",
       "2        0.064257        svodesh  three_NUM\n",
       "3        0.075000        svodesh   four_NUM\n",
       "4        0.079167        svodesh   five_NUM"
      ]
     },
     "execution_count": 97,
     "metadata": {},
     "output_type": "execute_result"
    }
   ],
   "source": [
    "rows_list = []\n",
    "for word in eng_svodesh:\n",
    "        dict1 = {}\n",
    "        dict1['word'] = word\n",
    "        dict1['svodesh/random'] = 'svodesh'\n",
    "        dict1['% intersection'] = count_set(get_words(dic_svodesh['bnc'][word]),get_words(dic_svodesh['wiki'][word]),get_words(dic_svodesh['gigaword'][word]))\n",
    "        rows_list.append(dict1)\n",
    "for word in random_words:\n",
    "        dict1 = {}\n",
    "        dict1['word'] = word\n",
    "        dict1['svodesh/random'] = 'random'\n",
    "        dict1['% intersection'] = count_set(get_words(dic_random['bnc'][word]),get_words(dic_random['wiki'][word]),get_words(dic_random['gigaword'][word]))\n",
    "        rows_list.append(dict1)\n",
    "for word in freq_words:\n",
    "        dict1 = {}\n",
    "        dict1['word'] = word\n",
    "        dict1['svodesh/random'] = 'freq'\n",
    "        dict1['% intersection'] = count_set(get_words(dic_freq['bnc'][word]),get_words(dic_freq['wiki'][word]),get_words(dic_freq['gigaword'][word]))\n",
    "        rows_list.append(dict1)\n",
    "df = pd.DataFrame(rows_list) \n",
    "df.head()"
   ]
  },
  {
   "cell_type": "code",
   "execution_count": 40,
   "metadata": {
    "collapsed": true
   },
   "outputs": [],
   "source": [
    "#svodesh\n",
    "sv = df[df['svodesh/random']=='svodesh']\n",
    "#random\n",
    "rn = df[df['svodesh/random']=='random']"
   ]
  },
  {
   "cell_type": "code",
   "execution_count": 41,
   "metadata": {
    "collapsed": true
   },
   "outputs": [],
   "source": [
    "#манн-уитни\n",
    "from scipy.stats import mannwhitneyu"
   ]
  },
  {
   "cell_type": "code",
   "execution_count": 42,
   "metadata": {},
   "outputs": [
    {
     "data": {
      "text/plain": [
       "MannwhitneyuResult(statistic=18873.0, pvalue=0.999999999999925)"
      ]
     },
     "execution_count": 42,
     "metadata": {},
     "output_type": "execute_result"
    }
   ],
   "source": [
    "mannwhitneyu(sorted(sv['% intersection']), sorted(rn['% intersection']), use_continuity=True, alternative='less')"
   ]
  },
  {
   "cell_type": "code",
   "execution_count": null,
   "metadata": {
    "collapsed": true
   },
   "outputs": [],
   "source": [
    "#Получается, что нулевая гипотеза о том, что степень признака в выборках неравна (в первой меньше) неверна\n",
    "#принимается альтернативная гипотеза, что в случайной выборке слов степень признака меньше"
   ]
  },
  {
   "cell_type": "code",
   "execution_count": 98,
   "metadata": {
    "collapsed": true
   },
   "outputs": [],
   "source": [
    "df.to_csv(path_or_buf='/media/mi_air/0F0B7DDE62EEA81E/vector/closest_word_intersection_eng.csv', sep='\\t')"
   ]
  },
  {
   "cell_type": "code",
   "execution_count": null,
   "metadata": {
    "collapsed": true
   },
   "outputs": [],
   "source": []
  },
  {
   "cell_type": "code",
   "execution_count": null,
   "metadata": {
    "collapsed": true
   },
   "outputs": [],
   "source": []
  },
  {
   "cell_type": "code",
   "execution_count": 17,
   "metadata": {
    "collapsed": true
   },
   "outputs": [],
   "source": [
    "eng_svodesh = eng_svodesh.split('\\n')\n",
    "eng_svodesh = [i.strip() for i in eng_svodesh]"
   ]
  },
  {
   "cell_type": "code",
   "execution_count": 18,
   "metadata": {},
   "outputs": [
    {
     "data": {
      "text/plain": [
       "205"
      ]
     },
     "execution_count": 18,
     "metadata": {},
     "output_type": "execute_result"
    }
   ],
   "source": [
    "len(eng_svodesh)"
   ]
  },
  {
   "cell_type": "code",
   "execution_count": 16,
   "metadata": {
    "collapsed": true
   },
   "outputs": [],
   "source": [
    "eng_svodesh = '''I \n",
    "you\n",
    "he \n",
    "we \n",
    "they \n",
    "this \n",
    "that \n",
    "here \n",
    "there \n",
    "who \n",
    "what \n",
    "where \n",
    "when \n",
    "how \n",
    "not \n",
    "all \n",
    "many \n",
    "some \n",
    "few \n",
    "other \n",
    "one \n",
    "two \n",
    "three \n",
    "four \n",
    "five \n",
    "big \n",
    "long \n",
    "wide \n",
    "thick \n",
    "heavy \n",
    "small \n",
    "short \n",
    "narrow \n",
    "thin \n",
    "woman \n",
    "man\n",
    "child \n",
    "wife \n",
    "husband \n",
    "mother \n",
    "father \n",
    "animal \n",
    "fish \n",
    "bird \n",
    "dog \n",
    "louse \n",
    "snake \n",
    "worm \n",
    "tree \n",
    "forest \n",
    "stick \n",
    "fruit \n",
    "seed \n",
    "leaf \n",
    "root \n",
    "bark \n",
    "flower \n",
    "grass \n",
    "rope \n",
    "skin \n",
    "meat \n",
    "blood \n",
    "bone \n",
    "fat\n",
    "egg \n",
    "horn \n",
    "tail \n",
    "feather \n",
    "hair \n",
    "head \n",
    "ear \n",
    "eye \n",
    "nose \n",
    "mouth \n",
    "tooth \n",
    "tongue \n",
    "fingernail \n",
    "foot \n",
    "leg \n",
    "knee \n",
    "hand \n",
    "wing \n",
    "belly \n",
    "guts \n",
    "neck \n",
    "back \n",
    "breast \n",
    "heart \n",
    "liver \n",
    "drink \n",
    "eat \n",
    "bite \n",
    "suck \n",
    "spit \n",
    "vomit \n",
    "blow \n",
    "breathe \n",
    "laugh \n",
    "see \n",
    "hear \n",
    "know \n",
    "think \n",
    "smell \n",
    "fear \n",
    "sleep \n",
    "live \n",
    "die \n",
    "kill \n",
    "fight \n",
    "hunt \n",
    "hit \n",
    "cut \n",
    "split \n",
    "stab \n",
    "scratch \n",
    "dig \n",
    "swim \n",
    "fly \n",
    "walk \n",
    "come \n",
    "lie\n",
    "sit \n",
    "stand \n",
    "turn\n",
    "fall \n",
    "give \n",
    "hold \n",
    "squeeze \n",
    "rub \n",
    "wash \n",
    "wipe \n",
    "pull \n",
    "push \n",
    "throw \n",
    "tie \n",
    "sew \n",
    "count \n",
    "say \n",
    "sing \n",
    "play \n",
    "float \n",
    "flow \n",
    "freeze \n",
    "swell \n",
    "sun \n",
    "moon \n",
    "star \n",
    "water \n",
    "rain \n",
    "river \n",
    "lake \n",
    "sea \n",
    "salt \n",
    "stone \n",
    "sand \n",
    "dust \n",
    "earth \n",
    "cloud \n",
    "fog \n",
    "sky \n",
    "wind \n",
    "snow \n",
    "ice \n",
    "smoke \n",
    "fire \n",
    "ash \n",
    "to burn \n",
    "road \n",
    "mountain \n",
    "red \n",
    "green \n",
    "yellow \n",
    "white \n",
    "black \n",
    "night \n",
    "day \n",
    "year \n",
    "warm \n",
    "cold \n",
    "full \n",
    "new \n",
    "old \n",
    "good \n",
    "bad \n",
    "rotten \n",
    "dirty \n",
    "straight \n",
    "round \n",
    "sharp\n",
    "dull\n",
    "smooth \n",
    "wet \n",
    "dry \n",
    "correct \n",
    "near \n",
    "far \n",
    "right \n",
    "left \n",
    "at \n",
    "in \n",
    "with \n",
    "and \n",
    "if \n",
    "because \n",
    "name '''"
   ]
  },
  {
   "cell_type": "code",
   "execution_count": null,
   "metadata": {
    "collapsed": true
   },
   "outputs": [],
   "source": []
  }
 ],
 "metadata": {
  "anaconda-cloud": {},
  "kernelspec": {
   "display_name": "Python [default]",
   "language": "python",
   "name": "python3"
  },
  "language_info": {
   "codemirror_mode": {
    "name": "ipython",
    "version": 3
   },
   "file_extension": ".py",
   "mimetype": "text/x-python",
   "name": "python",
   "nbconvert_exporter": "python",
   "pygments_lexer": "ipython3",
   "version": "3.5.2"
  }
 },
 "nbformat": 4,
 "nbformat_minor": 2
}
